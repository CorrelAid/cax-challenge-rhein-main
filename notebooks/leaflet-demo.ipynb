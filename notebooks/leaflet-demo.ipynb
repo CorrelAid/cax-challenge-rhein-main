{
 "cells": [
  {
   "cell_type": "markdown",
   "metadata": {},
   "source": [
    "https://blog.jupyter.org/interactive-gis-in-jupyter-with-ipyleaflet-52f9657fa7a"
   ]
  },
  {
   "cell_type": "code",
   "execution_count": 225,
   "metadata": {},
   "outputs": [],
   "source": [
    "from ipyleaflet import (Map, GeoData, basemaps, WidgetControl, GeoJSON, LayersControl,\n",
    "                        Choropleth, Heatmap, SearchControl,FullScreenControl, LegendControl)\n",
    "from ipywidgets import Text, HTML, widgets, interact, Label, Layout, HBox, VBox\n",
    "from branca.colormap import linear\n",
    "import geopandas as gpd\n",
    "import pandas as pd\n",
    "import json\n",
    "\n",
    "from datenguidepy import get_regions, get_statistics, Query"
   ]
  },
  {
   "cell_type": "markdown",
   "metadata": {},
   "source": [
    "# data from datenguide API"
   ]
  },
  {
   "cell_type": "markdown",
   "metadata": {},
   "source": [
    "Hesse has region code '06'"
   ]
  },
  {
   "cell_type": "code",
   "execution_count": 17,
   "metadata": {},
   "outputs": [
    {
     "data": {
      "text/html": [
       "<div>\n",
       "<style scoped>\n",
       "    .dataframe tbody tr th:only-of-type {\n",
       "        vertical-align: middle;\n",
       "    }\n",
       "\n",
       "    .dataframe tbody tr th {\n",
       "        vertical-align: top;\n",
       "    }\n",
       "\n",
       "    .dataframe thead th {\n",
       "        text-align: right;\n",
       "    }\n",
       "</style>\n",
       "<table border=\"1\" class=\"dataframe\">\n",
       "  <thead>\n",
       "    <tr style=\"text-align: right;\">\n",
       "      <th></th>\n",
       "      <th>name</th>\n",
       "      <th>level</th>\n",
       "      <th>parent</th>\n",
       "    </tr>\n",
       "    <tr>\n",
       "      <th>region_id</th>\n",
       "      <th></th>\n",
       "      <th></th>\n",
       "      <th></th>\n",
       "    </tr>\n",
       "  </thead>\n",
       "  <tbody>\n",
       "    <tr>\n",
       "      <th>10</th>\n",
       "      <td>Saarland</td>\n",
       "      <td>nuts1</td>\n",
       "      <td>DG</td>\n",
       "    </tr>\n",
       "    <tr>\n",
       "      <th>11</th>\n",
       "      <td>Berlin</td>\n",
       "      <td>nuts1</td>\n",
       "      <td>DG</td>\n",
       "    </tr>\n",
       "    <tr>\n",
       "      <th>12</th>\n",
       "      <td>Brandenburg</td>\n",
       "      <td>nuts1</td>\n",
       "      <td>DG</td>\n",
       "    </tr>\n",
       "    <tr>\n",
       "      <th>13</th>\n",
       "      <td>Mecklenburg-Vorpommern</td>\n",
       "      <td>nuts1</td>\n",
       "      <td>DG</td>\n",
       "    </tr>\n",
       "    <tr>\n",
       "      <th>14</th>\n",
       "      <td>Sachsen</td>\n",
       "      <td>nuts1</td>\n",
       "      <td>DG</td>\n",
       "    </tr>\n",
       "    <tr>\n",
       "      <th>15</th>\n",
       "      <td>Sachsen-Anhalt</td>\n",
       "      <td>nuts1</td>\n",
       "      <td>DG</td>\n",
       "    </tr>\n",
       "    <tr>\n",
       "      <th>16</th>\n",
       "      <td>Thüringen</td>\n",
       "      <td>nuts1</td>\n",
       "      <td>DG</td>\n",
       "    </tr>\n",
       "    <tr>\n",
       "      <th>01</th>\n",
       "      <td>Schleswig-Holstein</td>\n",
       "      <td>nuts1</td>\n",
       "      <td>DG</td>\n",
       "    </tr>\n",
       "    <tr>\n",
       "      <th>02</th>\n",
       "      <td>Hamburg</td>\n",
       "      <td>nuts1</td>\n",
       "      <td>DG</td>\n",
       "    </tr>\n",
       "    <tr>\n",
       "      <th>03</th>\n",
       "      <td>Niedersachsen</td>\n",
       "      <td>nuts1</td>\n",
       "      <td>DG</td>\n",
       "    </tr>\n",
       "    <tr>\n",
       "      <th>04</th>\n",
       "      <td>Bremen</td>\n",
       "      <td>nuts1</td>\n",
       "      <td>DG</td>\n",
       "    </tr>\n",
       "    <tr>\n",
       "      <th>05</th>\n",
       "      <td>Nordrhein-Westfalen</td>\n",
       "      <td>nuts1</td>\n",
       "      <td>DG</td>\n",
       "    </tr>\n",
       "    <tr>\n",
       "      <th>06</th>\n",
       "      <td>Hessen</td>\n",
       "      <td>nuts1</td>\n",
       "      <td>DG</td>\n",
       "    </tr>\n",
       "    <tr>\n",
       "      <th>07</th>\n",
       "      <td>Rheinland-Pfalz</td>\n",
       "      <td>nuts1</td>\n",
       "      <td>DG</td>\n",
       "    </tr>\n",
       "    <tr>\n",
       "      <th>08</th>\n",
       "      <td>Baden-Württemberg, Land</td>\n",
       "      <td>nuts1</td>\n",
       "      <td>DG</td>\n",
       "    </tr>\n",
       "    <tr>\n",
       "      <th>09</th>\n",
       "      <td>Bayern</td>\n",
       "      <td>nuts1</td>\n",
       "      <td>DG</td>\n",
       "    </tr>\n",
       "  </tbody>\n",
       "</table>\n",
       "</div>"
      ],
      "text/plain": [
       "                              name  level parent\n",
       "region_id                                       \n",
       "10                        Saarland  nuts1     DG\n",
       "11                          Berlin  nuts1     DG\n",
       "12                     Brandenburg  nuts1     DG\n",
       "13          Mecklenburg-Vorpommern  nuts1     DG\n",
       "14                         Sachsen  nuts1     DG\n",
       "15                  Sachsen-Anhalt  nuts1     DG\n",
       "16                       Thüringen  nuts1     DG\n",
       "01              Schleswig-Holstein  nuts1     DG\n",
       "02                         Hamburg  nuts1     DG\n",
       "03                   Niedersachsen  nuts1     DG\n",
       "04                          Bremen  nuts1     DG\n",
       "05             Nordrhein-Westfalen  nuts1     DG\n",
       "06                          Hessen  nuts1     DG\n",
       "07                 Rheinland-Pfalz  nuts1     DG\n",
       "08         Baden-Württemberg, Land  nuts1     DG\n",
       "09                          Bayern  nuts1     DG"
      ]
     },
     "execution_count": 17,
     "metadata": {},
     "output_type": "execute_result"
    }
   ],
   "source": [
    "get_regions().query(\"level == 'nuts1'\")"
   ]
  },
  {
   "cell_type": "code",
   "execution_count": 18,
   "metadata": {},
   "outputs": [
    {
     "data": {
      "text/html": [
       "<div>\n",
       "<style scoped>\n",
       "    .dataframe tbody tr th:only-of-type {\n",
       "        vertical-align: middle;\n",
       "    }\n",
       "\n",
       "    .dataframe tbody tr th {\n",
       "        vertical-align: top;\n",
       "    }\n",
       "\n",
       "    .dataframe thead th {\n",
       "        text-align: right;\n",
       "    }\n",
       "</style>\n",
       "<table border=\"1\" class=\"dataframe\">\n",
       "  <thead>\n",
       "    <tr style=\"text-align: right;\">\n",
       "      <th></th>\n",
       "      <th>short_description</th>\n",
       "      <th>long_description</th>\n",
       "    </tr>\n",
       "    <tr>\n",
       "      <th>statistic</th>\n",
       "      <th></th>\n",
       "      <th></th>\n",
       "    </tr>\n",
       "  </thead>\n",
       "  <tbody>\n",
       "    <tr>\n",
       "      <th>RLE001</th>\n",
       "      <td>Regelleistungsempfänger</td>\n",
       "      <td>Regelleistungsempfänger\\n \\n \\nErläuterung für...</td>\n",
       "    </tr>\n",
       "    <tr>\n",
       "      <th>BEV002</th>\n",
       "      <td>Gestorbene</td>\n",
       "      <td>Gestorbene\\n \\n \\nErläuterung für folgende Sta...</td>\n",
       "    </tr>\n",
       "    <tr>\n",
       "      <th>FLCX05</th>\n",
       "      <td>Bodenfläche</td>\n",
       "      <td>Bodenfläche\\n \\n \\nErläuterung für folgende St...</td>\n",
       "    </tr>\n",
       "    <tr>\n",
       "      <th>FLC005</th>\n",
       "      <td>Bodenfläche</td>\n",
       "      <td>Bodenfläche\\n\\n\\nErläuterung für folgende Stat...</td>\n",
       "    </tr>\n",
       "    <tr>\n",
       "      <th>KIND35</th>\n",
       "      <td>Kinder</td>\n",
       "      <td>Missing</td>\n",
       "    </tr>\n",
       "    <tr>\n",
       "      <th>...</th>\n",
       "      <td>...</td>\n",
       "      <td>...</td>\n",
       "    </tr>\n",
       "    <tr>\n",
       "      <th>UMS011</th>\n",
       "      <td>Gesamtumsatz des Vorjahres</td>\n",
       "      <td>Gesamtumsatz des Vorjahres\\n \\n \\nErläuterung ...</td>\n",
       "    </tr>\n",
       "    <tr>\n",
       "      <th>UMS041</th>\n",
       "      <td>Baugewerblicher Umsatz des Vorjahres</td>\n",
       "      <td>Baugewerblicher Umsatz des Vorjahres\\n \\n \\nEr...</td>\n",
       "    </tr>\n",
       "    <tr>\n",
       "      <th>FLC006</th>\n",
       "      <td>Gebietsfläche</td>\n",
       "      <td>Erläuterung für folgende Statistik(en):\\nFläch...</td>\n",
       "    </tr>\n",
       "    <tr>\n",
       "      <th>GEM001</th>\n",
       "      <td>Zahl der Gemeinden</td>\n",
       "      <td>Zahl der Gemeinden\\n \\n \\nErläuterung für folg...</td>\n",
       "    </tr>\n",
       "    <tr>\n",
       "      <th>ERT001</th>\n",
       "      <td>Hektarerträge</td>\n",
       "      <td>Hektarerträge\\n \\n \\nErläuterung für folgende ...</td>\n",
       "    </tr>\n",
       "  </tbody>\n",
       "</table>\n",
       "<p>492 rows × 2 columns</p>\n",
       "</div>"
      ],
      "text/plain": [
       "                              short_description  \\\n",
       "statistic                                         \n",
       "RLE001                  Regelleistungsempfänger   \n",
       "BEV002                               Gestorbene   \n",
       "FLCX05                              Bodenfläche   \n",
       "FLC005                              Bodenfläche   \n",
       "KIND35                                   Kinder   \n",
       "...                                         ...   \n",
       "UMS011               Gesamtumsatz des Vorjahres   \n",
       "UMS041     Baugewerblicher Umsatz des Vorjahres   \n",
       "FLC006                            Gebietsfläche   \n",
       "GEM001                       Zahl der Gemeinden   \n",
       "ERT001                            Hektarerträge   \n",
       "\n",
       "                                            long_description  \n",
       "statistic                                                     \n",
       "RLE001     Regelleistungsempfänger\\n \\n \\nErläuterung für...  \n",
       "BEV002     Gestorbene\\n \\n \\nErläuterung für folgende Sta...  \n",
       "FLCX05     Bodenfläche\\n \\n \\nErläuterung für folgende St...  \n",
       "FLC005     Bodenfläche\\n\\n\\nErläuterung für folgende Stat...  \n",
       "KIND35                                               Missing  \n",
       "...                                                      ...  \n",
       "UMS011     Gesamtumsatz des Vorjahres\\n \\n \\nErläuterung ...  \n",
       "UMS041     Baugewerblicher Umsatz des Vorjahres\\n \\n \\nEr...  \n",
       "FLC006     Erläuterung für folgende Statistik(en):\\nFläch...  \n",
       "GEM001     Zahl der Gemeinden\\n \\n \\nErläuterung für folg...  \n",
       "ERT001     Hektarerträge\\n \\n \\nErläuterung für folgende ...  \n",
       "\n",
       "[492 rows x 2 columns]"
      ]
     },
     "execution_count": 18,
     "metadata": {},
     "output_type": "execute_result"
    }
   ],
   "source": [
    "get_statistics()"
   ]
  },
  {
   "cell_type": "code",
   "execution_count": 20,
   "metadata": {},
   "outputs": [],
   "source": [
    "selected_stats = 'AI1903'\n",
    "year = 2013"
   ]
  },
  {
   "cell_type": "code",
   "execution_count": 82,
   "metadata": {},
   "outputs": [],
   "source": [
    "def get_data_to_show(selected_stats=selected_stats, year = year):\n",
    "    q = Query.all_regions(parent='06')\n",
    "    stat = q.add_field(selected_stats)\n",
    "    stat.add_args({'year': [year]})\n",
    "    description = stat.description()\n",
    "\n",
    "    data = q.results(verbose_enums=True, add_units = True)\n",
    "    data, unit = data[['name', selected_stats]], data[selected_stats+'_unit'].iloc[0]\n",
    "    # remove Kreis & kreisfreie Stadt from names to be compatible with geojson ids\n",
    "    data['name'] = data['name'].apply(lambda x: x.split(',')[0])\n",
    "\n",
    "    data = dict(data.to_dict('split')['data'])\n",
    "    return data, unit\n",
    "\n",
    "def get_statistics_description(selected_stats=selected_stats):\n",
    "    q = Query.all_regions(parent='06')\n",
    "    stat = q.add_field(selected_stats)\n",
    "    return stat.description()"
   ]
  },
  {
   "cell_type": "markdown",
   "metadata": {},
   "source": [
    "# get geoJSON"
   ]
  },
  {
   "cell_type": "code",
   "execution_count": 22,
   "metadata": {},
   "outputs": [],
   "source": [
    "geojson_data = json.load(open('../data/landkreise_simplify200.geojson','r'))"
   ]
  },
  {
   "cell_type": "code",
   "execution_count": 172,
   "metadata": {},
   "outputs": [
    {
     "data": {
      "text/plain": [
       "{}"
      ]
     },
     "execution_count": 172,
     "metadata": {},
     "output_type": "execute_result"
    }
   ],
   "source": [
    "for feature in geojson_data['features']:\n",
    "    feature['properties']['name'] = feature['properties']['BEZ']    \n",
    "#    pop[feature['properties']['GEN']] = feature['properties']['destatis']['population']    "
   ]
  },
  {
   "cell_type": "code",
   "execution_count": 24,
   "metadata": {},
   "outputs": [],
   "source": [
    "geo_data = {'features':[], 'id':[]}\n",
    "for f in geojson_data['features']:\n",
    "    f.update(id=f['properties']['GEN'])\n",
    "    geo_data['features'].append(f)\n",
    "#geo_data"
   ]
  },
  {
   "cell_type": "markdown",
   "metadata": {},
   "source": [
    "# plot data on map"
   ]
  },
  {
   "cell_type": "code",
   "execution_count": 78,
   "metadata": {},
   "outputs": [],
   "source": [
    "stat_ids = ['AI1903', 'AI1904']\n",
    "stat_descriptions = [get_statistics_description(si) for si in stat_ids]\n",
    "stat_tuple = tuple(zip(stat_descriptions, stat_ids))\n",
    "stat_dict = dict((y, x) for x, y in stat_tuple)"
   ]
  },
  {
   "cell_type": "code",
   "execution_count": 215,
   "metadata": {},
   "outputs": [],
   "source": [
    "stats_widget = widgets.Dropdown(\n",
    "    options=stat_tuple,\n",
    "    value= stat_ids[0],\n",
    "    description='statistics:',\n",
    "    disabled=False,\n",
    ")\n",
    "\n",
    "year_widget = widgets.Dropdown(\n",
    "    options= range(2010,2019),\n",
    "    value=2018,\n",
    "    description='year:',\n",
    "    disabled=False,\n",
    ")"
   ]
  },
  {
   "cell_type": "code",
   "execution_count": 261,
   "metadata": {},
   "outputs": [],
   "source": [
    "cm = linear.Blues_03\n",
    "\n",
    "def show_map(selected_stats, year):\n",
    "    label = Label(layout=Layout(width='100%'))\n",
    "    html = HTML('''{}'''.format(stat_dict[selected_stats]))\n",
    "    html.layout.margin = '5px 0px 0px 0px'\n",
    "    \n",
    "    control = WidgetControl(widget=html, position='topleft', max_width=200)\n",
    "    \n",
    "    choro_data, unit = get_data_to_show(selected_stats, year)\n",
    "    for f in geo_data['features']:\n",
    "        f['value'] = choro_data[f['properties']['GEN']]\n",
    "\n",
    "\n",
    "    layer = Choropleth(\n",
    "        geo_data= geo_data,\n",
    "        choro_data= choro_data,\n",
    "    #     key_on = 'features',\n",
    "        colormap= cm,\n",
    "        style={'fillOpacity': 0.8, 'dashArray': '5, 5'}\n",
    "   )\n",
    "\n",
    "    geo_json = GeoJSON(data=geo_data,\n",
    "                       style={'opacity': 0, 'dashArray': '9', 'fillOpacity': 0, 'weight': 1},\n",
    "                       hover_style={'color': 'green', 'dashArray': '0', 'fillOpacity': 0.7}\n",
    "                      )\n",
    "    \n",
    "    def hover_handler(event=None, feature=None, id=None, properties=None):\n",
    "        label.value = properties['GEN']       \n",
    "    geo_json.on_hover(hover_handler)\n",
    "    \n",
    "    def update_html(feature,  **kwargs):\n",
    "        html.value = '''\n",
    "            {}<br><b>{}</b>: {} {}\n",
    "        '''.format(stat_dict[selected_stats],\n",
    "                   feature['properties']['GEN'],\n",
    "                   feature['value'],\n",
    "                   unit)\n",
    "    geo_json.on_hover(update_html)\n",
    "    \n",
    "    m = Map(center=(50.5,9), zoom=8)\n",
    "    m.add_layer(layer)\n",
    "    m.add_layer(geo_json)\n",
    "    m.add_control(control)\n",
    "\n",
    "    m.layout.width = '40%'\n",
    "    m.layout.height = '700px'\n",
    "\n",
    "     # custom made \"color bar\"\n",
    "    min_value, max_value = min(choro_data.values()), max(choro_data.values())\n",
    "    legend = LegendControl(\n",
    "          {str(min_value)+' '+str(unit): cm(0),\n",
    "          str(min_value+0.5*(max_value-min_value))+' '+str(unit): cm(.5),\n",
    "          str(max_value)+' '+str(unit): cm(1)},\n",
    "          name= f\"{stat_dict[selected_stats]} ({year})\", position=\"bottomright\")\n",
    "    m.add_control(legend)\n",
    "    return m#HBox([m, label])#m"
   ]
  },
  {
   "cell_type": "code",
   "execution_count": 262,
   "metadata": {},
   "outputs": [
    {
     "data": {
      "application/vnd.jupyter.widget-view+json": {
       "model_id": "3b7346b9c79442ec88ba2ec258bfcc59",
       "version_major": 2,
       "version_minor": 0
      },
      "text/plain": [
       "interactive(children=(Dropdown(description='statistics:', index=1, options=(('Getrennt erfasste Wertstoffe', '…"
      ]
     },
     "metadata": {},
     "output_type": "display_data"
    }
   ],
   "source": [
    "interact(show_map, selected_stats=stats_widget, year=year_widget);"
   ]
  },
  {
   "cell_type": "code",
   "execution_count": null,
   "metadata": {
    "tags": []
   },
   "outputs": [],
   "source": [
    "geojson_data"
   ]
  },
  {
   "cell_type": "code",
   "execution_count": null,
   "metadata": {},
   "outputs": [],
   "source": [
    "geo_data"
   ]
  }
 ],
 "metadata": {
  "kernelspec": {
   "display_name": "Python 3.8.3 64-bit ('cax': conda)",
   "language": "python",
   "name": "python38364bitcaxconda1a41f04c3f8d4044b2096fb9801911fc"
  },
  "language_info": {
   "codemirror_mode": {
    "name": "ipython",
    "version": 3
   },
   "file_extension": ".py",
   "mimetype": "text/x-python",
   "name": "python",
   "nbconvert_exporter": "python",
   "pygments_lexer": "ipython3",
   "version": "3.8.3"
  },
  "toc": {
   "base_numbering": 1,
   "nav_menu": {},
   "number_sections": true,
   "sideBar": true,
   "skip_h1_title": false,
   "title_cell": "Table of Contents",
   "title_sidebar": "Contents",
   "toc_cell": false,
   "toc_position": {},
   "toc_section_display": true,
   "toc_window_display": false
  }
 },
 "nbformat": 4,
 "nbformat_minor": 4
}
