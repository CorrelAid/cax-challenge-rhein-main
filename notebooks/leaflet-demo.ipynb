{
 "cells": [
  {
   "cell_type": "code",
   "execution_count": 111,
   "metadata": {},
   "outputs": [],
   "source": [
    "from ipyleaflet import (Map, GeoData, basemaps, WidgetControl, GeoJSON, LayersControl,\n",
    "                        Choropleth, Heatmap, SearchControl,FullScreenControl, LegendControl)\n",
    "from ipywidgets import Text, HTML, widgets, interact\n",
    "from branca.colormap import linear\n",
    "import geopandas as gpd\n",
    "import pandas as pd\n",
    "import json\n",
    "\n",
    "from datenguidepy import get_regions, get_statistics, Query"
   ]
  },
  {
   "cell_type": "markdown",
   "metadata": {},
   "source": [
    "# data from datenguide API"
   ]
  },
  {
   "cell_type": "markdown",
   "metadata": {},
   "source": [
    "Hesse has region code '06'"
   ]
  },
  {
   "cell_type": "code",
   "execution_count": 4,
   "metadata": {},
   "outputs": [
    {
     "output_type": "execute_result",
     "data": {
      "text/plain": "                              name  level parent\nregion_id                                       \n10                        Saarland  nuts1     DG\n11                          Berlin  nuts1     DG\n12                     Brandenburg  nuts1     DG\n13          Mecklenburg-Vorpommern  nuts1     DG\n14                         Sachsen  nuts1     DG\n15                  Sachsen-Anhalt  nuts1     DG\n16                       Thüringen  nuts1     DG\n01              Schleswig-Holstein  nuts1     DG\n02                         Hamburg  nuts1     DG\n03                   Niedersachsen  nuts1     DG\n04                          Bremen  nuts1     DG\n05             Nordrhein-Westfalen  nuts1     DG\n06                          Hessen  nuts1     DG\n07                 Rheinland-Pfalz  nuts1     DG\n08         Baden-Württemberg, Land  nuts1     DG\n09                          Bayern  nuts1     DG",
      "text/html": "<div>\n<style scoped>\n    .dataframe tbody tr th:only-of-type {\n        vertical-align: middle;\n    }\n\n    .dataframe tbody tr th {\n        vertical-align: top;\n    }\n\n    .dataframe thead th {\n        text-align: right;\n    }\n</style>\n<table border=\"1\" class=\"dataframe\">\n  <thead>\n    <tr style=\"text-align: right;\">\n      <th></th>\n      <th>name</th>\n      <th>level</th>\n      <th>parent</th>\n    </tr>\n    <tr>\n      <th>region_id</th>\n      <th></th>\n      <th></th>\n      <th></th>\n    </tr>\n  </thead>\n  <tbody>\n    <tr>\n      <th>10</th>\n      <td>Saarland</td>\n      <td>nuts1</td>\n      <td>DG</td>\n    </tr>\n    <tr>\n      <th>11</th>\n      <td>Berlin</td>\n      <td>nuts1</td>\n      <td>DG</td>\n    </tr>\n    <tr>\n      <th>12</th>\n      <td>Brandenburg</td>\n      <td>nuts1</td>\n      <td>DG</td>\n    </tr>\n    <tr>\n      <th>13</th>\n      <td>Mecklenburg-Vorpommern</td>\n      <td>nuts1</td>\n      <td>DG</td>\n    </tr>\n    <tr>\n      <th>14</th>\n      <td>Sachsen</td>\n      <td>nuts1</td>\n      <td>DG</td>\n    </tr>\n    <tr>\n      <th>15</th>\n      <td>Sachsen-Anhalt</td>\n      <td>nuts1</td>\n      <td>DG</td>\n    </tr>\n    <tr>\n      <th>16</th>\n      <td>Thüringen</td>\n      <td>nuts1</td>\n      <td>DG</td>\n    </tr>\n    <tr>\n      <th>01</th>\n      <td>Schleswig-Holstein</td>\n      <td>nuts1</td>\n      <td>DG</td>\n    </tr>\n    <tr>\n      <th>02</th>\n      <td>Hamburg</td>\n      <td>nuts1</td>\n      <td>DG</td>\n    </tr>\n    <tr>\n      <th>03</th>\n      <td>Niedersachsen</td>\n      <td>nuts1</td>\n      <td>DG</td>\n    </tr>\n    <tr>\n      <th>04</th>\n      <td>Bremen</td>\n      <td>nuts1</td>\n      <td>DG</td>\n    </tr>\n    <tr>\n      <th>05</th>\n      <td>Nordrhein-Westfalen</td>\n      <td>nuts1</td>\n      <td>DG</td>\n    </tr>\n    <tr>\n      <th>06</th>\n      <td>Hessen</td>\n      <td>nuts1</td>\n      <td>DG</td>\n    </tr>\n    <tr>\n      <th>07</th>\n      <td>Rheinland-Pfalz</td>\n      <td>nuts1</td>\n      <td>DG</td>\n    </tr>\n    <tr>\n      <th>08</th>\n      <td>Baden-Württemberg, Land</td>\n      <td>nuts1</td>\n      <td>DG</td>\n    </tr>\n    <tr>\n      <th>09</th>\n      <td>Bayern</td>\n      <td>nuts1</td>\n      <td>DG</td>\n    </tr>\n  </tbody>\n</table>\n</div>"
     },
     "metadata": {},
     "execution_count": 4
    }
   ],
   "source": [
    "get_regions().query(\"level == 'nuts1'\")"
   ]
  },
  {
   "cell_type": "code",
   "execution_count": 69,
   "metadata": {},
   "outputs": [],
   "source": [
    "selected_stats = 'AI1903'\n",
    "year = 2013"
   ]
  },
  {
   "cell_type": "code",
   "execution_count": 91,
   "metadata": {},
   "outputs": [],
   "source": [
    "def get_data_to_show(selected_stats=selected_stats, year = year):\n",
    "    q = Query.all_regions(parent='06')\n",
    "    stat = q.add_field(selected_stats)\n",
    "    stat.add_args({'year': [year]})\n",
    "\n",
    "    data = q.results(verbose_enums=True)[['name', selected_stats]]\n",
    "    # remove Kreis & kreisfreie Stadt from names to be compatible with geojson ids\n",
    "    data['name'] = data['name'].apply(lambda x: x.split(',')[0])\n",
    "\n",
    "    data = dict(data.to_dict('split')['data'])\n",
    "    return data "
   ]
  },
  {
   "cell_type": "markdown",
   "metadata": {},
   "source": [
    "# get geoJSON"
   ]
  },
  {
   "cell_type": "code",
   "execution_count": 37,
   "metadata": {},
   "outputs": [],
   "source": [
    "geojson_data = json.load(open('../data/landkreise_simplify200.geojson','r'))"
   ]
  },
  {
   "cell_type": "code",
   "execution_count": 38,
   "metadata": {},
   "outputs": [
    {
     "output_type": "execute_result",
     "data": {
      "text/plain": "{'Darmstadt': 159207,\n 'Frankfurt am Main': 753056,\n 'Offenbach am Main': 128744,\n 'Wiesbaden': 278342,\n 'Bergstraße': 269694,\n 'Darmstadt-Dieburg': 297399,\n 'Groß-Gerau': 274526,\n 'Hochtaunuskreis': 236564,\n 'Main-Kinzig-Kreis': 418950,\n 'Main-Taunus-Kreis': 237735,\n 'Odenwaldkreis': 96798,\n 'Offenbach': 354092,\n 'Rheingau-Taunus-Kreis': 187157,\n 'Wetteraukreis': 306460,\n 'Gießen': 268876,\n 'Lahn-Dill-Kreis': 253777,\n 'Limburg-Weilburg': 172083,\n 'Marburg-Biedenkopf': 246648,\n 'Vogelsbergkreis': 105878,\n 'Kassel': 236633,\n 'Fulda': 222584,\n 'Hersfeld-Rotenburg': 120829,\n 'Schwalm-Eder-Kreis': 180222,\n 'Waldeck-Frankenberg': 156953,\n 'Werra-Meißner-Kreis': 101017}"
     },
     "metadata": {},
     "execution_count": 38
    }
   ],
   "source": [
    "pop = dict()\n",
    "for feature in geojson_data['features']:\n",
    "    pop[feature['properties']['GEN']] = feature['properties']['destatis']['population']    \n",
    "pop"
   ]
  },
  {
   "cell_type": "code",
   "execution_count": 54,
   "metadata": {},
   "outputs": [],
   "source": [
    "geo_data = {'features':[], 'id':[]}\n",
    "for f in geojson_data['features']:\n",
    "    f.update(id=f['properties']['GEN'])\n",
    "    geo_data['features'].append(f)\n",
    "#geo_data"
   ]
  },
  {
   "cell_type": "markdown",
   "metadata": {},
   "source": [
    "# plot data on map"
   ]
  },
  {
   "cell_type": "code",
   "execution_count": 192,
   "metadata": {},
   "outputs": [],
   "source": [
    "stats_widget = widgets.Dropdown(\n",
    "    options=['AI1903', 'AI1904'],\n",
    "    value='AI1903',\n",
    "    description='Statistics:',\n",
    "    disabled=False,\n",
    ")\n",
    "\n",
    "year_widget = widgets.Dropdown(\n",
    "    options= range(2010,2019),\n",
    "    value=2018,\n",
    "    description='year:',\n",
    "    disabled=False,\n",
    ")"
   ]
  },
  {
   "cell_type": "code",
   "execution_count": 189,
   "metadata": {},
   "outputs": [],
   "source": [
    "\n",
    "def show_map(selected_stats, year):\n",
    "     choro_data = get_data_to_show(selected_stats, year),\n",
    "\n",
    "     layer = Choropleth(\n",
    "          geo_data= geo_data,\n",
    "          choro_data= choro_data[0],\n",
    "     #     key_on = 'features',\n",
    "          colormap=linear.YlOrRd_04,\n",
    "          style={'fillOpacity': 0.8, 'dashArray': '5, 5'}\n",
    "     )\n",
    "\n",
    "     m = Map(center=(50.5,9), zoom=8)\n",
    "     m.add_layer(layer)\n",
    "     m.layout.width = '50%'\n",
    "     m.layout.height = '700px'\n",
    "\n",
    "     min_value, max_value = min(choro_data[0].values()), max(choro_data[0].values())\n",
    "     # custom made \"color bar\"\n",
    "     legend = LegendControl(\n",
    "          {str(min_value): linear.YlOrRd_04.rgb_hex_str(0),\n",
    "          str(min_value+0.5*(max_value-min_value)): linear.YlOrRd_04.rgb_hex_str(.5),\n",
    "          str(max_value): linear.YlOrRd_04.rgb_hex_str(1)},\n",
    "          name=selected_stats, position=\"bottomright\")\n",
    "     m.add_control(legend)\n",
    "     return m"
   ]
  },
  {
   "cell_type": "code",
   "execution_count": 191,
   "metadata": {},
   "outputs": [
    {
     "output_type": "display_data",
     "data": {
      "text/plain": "interactive(children=(Dropdown(description='Statistics:', index=1, options=('AI1903', 'AI1904'), value='AI1904…",
      "application/vnd.jupyter.widget-view+json": {
       "version_major": 2,
       "version_minor": 0,
       "model_id": "8407bd8550784493ae7468c5975eb619"
      }
     },
     "metadata": {}
    }
   ],
   "source": [
    "interact(show_map, selected_stats=stats_widget, year=year_widget);"
   ]
  },
  {
   "cell_type": "code",
   "execution_count": 33,
   "metadata": {
    "tags": []
   },
   "outputs": [
    {
     "output_type": "stream",
     "name": "stderr",
     "text": "UsageError: Line magic function `%skip` not found.\n"
    }
   ],
   "source": [
    "geojson_data"
   ]
  },
  {
   "cell_type": "code",
   "execution_count": 34,
   "metadata": {},
   "outputs": [],
   "source": [
    "geo_data"
   ]
  }
 ],
 "metadata": {
  "kernelspec": {
   "display_name": "Python 3.8.3 64-bit ('cax': conda)",
   "language": "python",
   "name": "python38364bitcaxconda1a41f04c3f8d4044b2096fb9801911fc"
  },
  "language_info": {
   "codemirror_mode": {
    "name": "ipython",
    "version": 3
   },
   "file_extension": ".py",
   "mimetype": "text/x-python",
   "name": "python",
   "nbconvert_exporter": "python",
   "pygments_lexer": "ipython3",
   "version": "3.8.3-final"
  },
  "toc": {
   "base_numbering": 1,
   "nav_menu": {},
   "number_sections": true,
   "sideBar": true,
   "skip_h1_title": false,
   "title_cell": "Table of Contents",
   "title_sidebar": "Contents",
   "toc_cell": false,
   "toc_position": {},
   "toc_section_display": true,
   "toc_window_display": false
  }
 },
 "nbformat": 4,
 "nbformat_minor": 4
}