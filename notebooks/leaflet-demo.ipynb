{
 "cells": [
  {
   "cell_type": "markdown",
   "metadata": {},
   "source": [
    "# notes"
   ]
  },
  {
   "cell_type": "markdown",
   "metadata": {},
   "source": [
    "https://blog.jupyter.org/interactive-gis-in-jupyter-with-ipyleaflet-52f9657fa7a"
   ]
  },
  {
   "cell_type": "markdown",
   "metadata": {},
   "source": [
    "- voila\n",
    "- normalization?\n",
    "- documentation\n",
    "- functions in modules"
   ]
  },
  {
   "cell_type": "markdown",
   "metadata": {},
   "source": [
    "# import packages"
   ]
  },
  {
   "cell_type": "code",
   "execution_count": 4,
   "metadata": {},
   "outputs": [],
   "source": [
    "from ipyleaflet import (Map, GeoData, basemaps, WidgetControl, GeoJSON, LayersControl,\n",
    "                        Choropleth, Heatmap, SearchControl,FullScreenControl, LegendControl)\n",
    "from ipywidgets import Text, HTML, widgets, interact, Label, Layout, HBox, VBox\n",
    "from branca.colormap import linear\n",
    "\n",
    "import geopandas as gpd\n",
    "import pandas as pd\n",
    "pd.options.plotting.backend = \"plotly\"\n",
    "\n",
    "import json\n",
    "import numpy as np\n",
    "import plotly.express as px\n",
    "import plotly.graph_objs as go\n",
    "\n",
    "from datenguidepy import get_regions, get_statistics, Query"
   ]
  },
  {
   "cell_type": "markdown",
   "metadata": {},
   "source": [
    "# inspect datenguide API"
   ]
  },
  {
   "cell_type": "code",
   "execution_count": 5,
   "metadata": {},
   "outputs": [
    {
     "data": {
      "text/html": [
       "<div>\n",
       "<style scoped>\n",
       "    .dataframe tbody tr th:only-of-type {\n",
       "        vertical-align: middle;\n",
       "    }\n",
       "\n",
       "    .dataframe tbody tr th {\n",
       "        vertical-align: top;\n",
       "    }\n",
       "\n",
       "    .dataframe thead th {\n",
       "        text-align: right;\n",
       "    }\n",
       "</style>\n",
       "<table border=\"1\" class=\"dataframe\">\n",
       "  <thead>\n",
       "    <tr style=\"text-align: right;\">\n",
       "      <th></th>\n",
       "      <th>name</th>\n",
       "      <th>level</th>\n",
       "      <th>parent</th>\n",
       "    </tr>\n",
       "    <tr>\n",
       "      <th>region_id</th>\n",
       "      <th></th>\n",
       "      <th></th>\n",
       "      <th></th>\n",
       "    </tr>\n",
       "  </thead>\n",
       "  <tbody>\n",
       "    <tr>\n",
       "      <th>10</th>\n",
       "      <td>Saarland</td>\n",
       "      <td>nuts1</td>\n",
       "      <td>DG</td>\n",
       "    </tr>\n",
       "    <tr>\n",
       "      <th>11</th>\n",
       "      <td>Berlin</td>\n",
       "      <td>nuts1</td>\n",
       "      <td>DG</td>\n",
       "    </tr>\n",
       "    <tr>\n",
       "      <th>12</th>\n",
       "      <td>Brandenburg</td>\n",
       "      <td>nuts1</td>\n",
       "      <td>DG</td>\n",
       "    </tr>\n",
       "    <tr>\n",
       "      <th>13</th>\n",
       "      <td>Mecklenburg-Vorpommern</td>\n",
       "      <td>nuts1</td>\n",
       "      <td>DG</td>\n",
       "    </tr>\n",
       "    <tr>\n",
       "      <th>14</th>\n",
       "      <td>Sachsen</td>\n",
       "      <td>nuts1</td>\n",
       "      <td>DG</td>\n",
       "    </tr>\n",
       "    <tr>\n",
       "      <th>15</th>\n",
       "      <td>Sachsen-Anhalt</td>\n",
       "      <td>nuts1</td>\n",
       "      <td>DG</td>\n",
       "    </tr>\n",
       "    <tr>\n",
       "      <th>16</th>\n",
       "      <td>Thüringen</td>\n",
       "      <td>nuts1</td>\n",
       "      <td>DG</td>\n",
       "    </tr>\n",
       "    <tr>\n",
       "      <th>01</th>\n",
       "      <td>Schleswig-Holstein</td>\n",
       "      <td>nuts1</td>\n",
       "      <td>DG</td>\n",
       "    </tr>\n",
       "    <tr>\n",
       "      <th>02</th>\n",
       "      <td>Hamburg</td>\n",
       "      <td>nuts1</td>\n",
       "      <td>DG</td>\n",
       "    </tr>\n",
       "    <tr>\n",
       "      <th>03</th>\n",
       "      <td>Niedersachsen</td>\n",
       "      <td>nuts1</td>\n",
       "      <td>DG</td>\n",
       "    </tr>\n",
       "    <tr>\n",
       "      <th>04</th>\n",
       "      <td>Bremen</td>\n",
       "      <td>nuts1</td>\n",
       "      <td>DG</td>\n",
       "    </tr>\n",
       "    <tr>\n",
       "      <th>05</th>\n",
       "      <td>Nordrhein-Westfalen</td>\n",
       "      <td>nuts1</td>\n",
       "      <td>DG</td>\n",
       "    </tr>\n",
       "    <tr>\n",
       "      <th>06</th>\n",
       "      <td>Hessen</td>\n",
       "      <td>nuts1</td>\n",
       "      <td>DG</td>\n",
       "    </tr>\n",
       "    <tr>\n",
       "      <th>07</th>\n",
       "      <td>Rheinland-Pfalz</td>\n",
       "      <td>nuts1</td>\n",
       "      <td>DG</td>\n",
       "    </tr>\n",
       "    <tr>\n",
       "      <th>08</th>\n",
       "      <td>Baden-Württemberg, Land</td>\n",
       "      <td>nuts1</td>\n",
       "      <td>DG</td>\n",
       "    </tr>\n",
       "    <tr>\n",
       "      <th>09</th>\n",
       "      <td>Bayern</td>\n",
       "      <td>nuts1</td>\n",
       "      <td>DG</td>\n",
       "    </tr>\n",
       "  </tbody>\n",
       "</table>\n",
       "</div>"
      ],
      "text/plain": [
       "                              name  level parent\n",
       "region_id                                       \n",
       "10                        Saarland  nuts1     DG\n",
       "11                          Berlin  nuts1     DG\n",
       "12                     Brandenburg  nuts1     DG\n",
       "13          Mecklenburg-Vorpommern  nuts1     DG\n",
       "14                         Sachsen  nuts1     DG\n",
       "15                  Sachsen-Anhalt  nuts1     DG\n",
       "16                       Thüringen  nuts1     DG\n",
       "01              Schleswig-Holstein  nuts1     DG\n",
       "02                         Hamburg  nuts1     DG\n",
       "03                   Niedersachsen  nuts1     DG\n",
       "04                          Bremen  nuts1     DG\n",
       "05             Nordrhein-Westfalen  nuts1     DG\n",
       "06                          Hessen  nuts1     DG\n",
       "07                 Rheinland-Pfalz  nuts1     DG\n",
       "08         Baden-Württemberg, Land  nuts1     DG\n",
       "09                          Bayern  nuts1     DG"
      ]
     },
     "execution_count": 5,
     "metadata": {},
     "output_type": "execute_result"
    }
   ],
   "source": [
    "get_regions().query(\"level == 'nuts1'\")"
   ]
  },
  {
   "cell_type": "markdown",
   "metadata": {},
   "source": [
    "**=> Hesse has region code '06'**"
   ]
  },
  {
   "cell_type": "markdown",
   "metadata": {},
   "source": [
    "# Define functions to load datenguide data into data frames"
   ]
  },
  {
   "cell_type": "code",
   "execution_count": 6,
   "metadata": {},
   "outputs": [],
   "source": [
    "# default values (for testing)\n",
    "selected_stats = 'AI1903'\n",
    "year = 2013"
   ]
  },
  {
   "cell_type": "code",
   "execution_count": 7,
   "metadata": {},
   "outputs": [],
   "source": [
    "def get_data_all_years(selected_stats=selected_stats):\n",
    "    '''\n",
    "    For a given `selected_stats` returns data and unit, where\n",
    "    data [dataframe]: the chosen statistics from datenguide.py with columns 'name', 'year', 'id' and stat values\n",
    "    units [string]: name of corresponding unit\n",
    "    '''\n",
    "    q = Query.all_regions(parent='06')\n",
    "    stat = q.add_field(selected_stats)\n",
    "    description = stat.description()\n",
    "\n",
    "    data = q.results(verbose_enums=True, add_units = True)\n",
    "    # for some reason entries are produced twice; remove them\n",
    "    data.drop_duplicates(inplace=True)\n",
    "    data, unit = data[['name', 'year', 'id', selected_stats]], data[selected_stats+'_unit'].iloc[0]\n",
    "\n",
    "    return data, unit\n",
    "\n",
    "def get_statistics_description(selected_stats=selected_stats):\n",
    "    '''\n",
    "    get the description string for statistics 'selected_stats'\n",
    "    '''\n",
    "    q = Query.all_regions(parent='06')\n",
    "    stat = q.add_field(selected_stats)\n",
    "    return stat.description()"
   ]
  },
  {
   "cell_type": "markdown",
   "metadata": {},
   "source": [
    "# load geoJSON data"
   ]
  },
  {
   "cell_type": "markdown",
   "metadata": {},
   "source": [
    "the geoJSON file was obtained from http://opendatalab.de/projects/geojson-utilities/  \n",
    "(contains only data for Hessen on level NUTS3)"
   ]
  },
  {
   "cell_type": "code",
   "execution_count": 8,
   "metadata": {},
   "outputs": [],
   "source": [
    "geojson_data = json.load(open('../data/landkreise_simplify200.geojson','r'))"
   ]
  },
  {
   "cell_type": "code",
   "execution_count": 9,
   "metadata": {},
   "outputs": [],
   "source": [
    "# set property 'name' for the county name to make it consistent with datenguide data\n",
    "for feature in geojson_data['features']:\n",
    "    feature['properties']['name'] = feature['properties']['BEZ']"
   ]
  },
  {
   "cell_type": "markdown",
   "metadata": {},
   "source": [
    "write to `geo_data` with identifier key named as `id`  \n",
    "TODO: why introduce a new variable here?"
   ]
  },
  {
   "cell_type": "code",
   "execution_count": 10,
   "metadata": {},
   "outputs": [],
   "source": [
    "geo_data = {'features':[], 'id':[]}\n",
    "for f in geojson_data['features']:\n",
    "    f.update(id=f['properties']['AGS']) #f['properties']['GEN'])\n",
    "    geo_data['features'].append(f)"
   ]
  },
  {
   "cell_type": "markdown",
   "metadata": {},
   "source": [
    "# define and load all statistics that will be available in the app"
   ]
  },
  {
   "cell_type": "code",
   "execution_count": 12,
   "metadata": {},
   "outputs": [],
   "source": [
    "stat_ids = ['AI1903', 'AI1904', 'FLC048']\n",
    "stat_descriptions = [get_statistics_description(si) for si in stat_ids]\n",
    "stat_tuple = tuple(zip(stat_descriptions, stat_ids))\n",
    "stat_dict = dict((y, x) for x, y in stat_tuple)"
   ]
  },
  {
   "cell_type": "code",
   "execution_count": 13,
   "metadata": {},
   "outputs": [],
   "source": [
    "choro_data_complete, units = dict(), dict()\n",
    "for st in stat_ids:\n",
    "    choro_data_complete[st], units[st] = get_data_all_years(st)\n",
    "    \n",
    "c = choro_data_complete[stat_ids[0]] # take one statistics data set for generating name/id mapping\n",
    "id_to_name = {ids: c.loc[c['id']==ids, 'name'][0] for ids in c['id'].unique()}"
   ]
  },
  {
   "cell_type": "markdown",
   "metadata": {},
   "source": [
    "# Building the interface"
   ]
  },
  {
   "cell_type": "markdown",
   "metadata": {},
   "source": [
    "## preparations"
   ]
  },
  {
   "cell_type": "markdown",
   "metadata": {},
   "source": [
    "define dropdown widgets for stats and year"
   ]
  },
  {
   "cell_type": "code",
   "execution_count": 14,
   "metadata": {},
   "outputs": [],
   "source": [
    "stats_widget = widgets.Dropdown(\n",
    "    options=stat_tuple,\n",
    "    value= stat_ids[0],\n",
    "    description='statistics:',\n",
    "    disabled=False,\n",
    ")\n",
    "\n",
    "year_widget = widgets.Dropdown(\n",
    "    options= range(2010,2019),\n",
    "    value=2018,\n",
    "    description='year:',\n",
    "    disabled=False,\n",
    ")\n",
    "\n",
    "vb = VBox([stats_widget, year_widget])"
   ]
  },
  {
   "cell_type": "markdown",
   "metadata": {},
   "source": [
    "create initial bar chart figure with random values (later overwritten when map is created)"
   ]
  },
  {
   "cell_type": "code",
   "execution_count": 35,
   "metadata": {},
   "outputs": [],
   "source": [
    "data = [go.Bar(x= np.arange(2010,2020), y=[0]*10)]\n",
    "layout = {'xaxis':{'title':'year'}, 'title':{'text': 'Frankfurt'}}\n",
    "fig = go.FigureWidget([data[0],data[0]], layout)\n",
    "fig.update_layout(legend=dict(\n",
    "    orientation='h',\n",
    "    yanchor=\"bottom\",\n",
    "    y=1.,\n",
    "    xanchor=\"center\",\n",
    "    x=0.5\n",
    "));"
   ]
  },
  {
   "cell_type": "markdown",
   "metadata": {},
   "source": [
    "## functions for callbacks and interactions"
   ]
  },
  {
   "cell_type": "markdown",
   "metadata": {},
   "source": [
    "set parameters"
   ]
  },
  {
   "cell_type": "code",
   "execution_count": 36,
   "metadata": {},
   "outputs": [],
   "source": [
    "cm = linear.Blues_03 # color map for county area coloring"
   ]
  },
  {
   "cell_type": "markdown",
   "metadata": {},
   "source": [
    "Updating the bar charts on clicking a ditrict. Basic logic:\n",
    "- `fig.data` contains 2 entries, one for each county to be shown (1st is more recently clicked)\n",
    "- after clicking, new stats is passed via arguments `district_id, stats_name, stats_data_frame, current_year`\n",
    "- assign: new stats instead of oldest data; most recent data take place of previously old data **needs refinement!**\n",
    "- bar layout properties are updated accordingly"
   ]
  },
  {
   "cell_type": "code",
   "execution_count": 47,
   "metadata": {},
   "outputs": [],
   "source": [
    "def update_figure(district_id, stats_name, stats_data_frame, current_year):\n",
    "    # add new stattistics\n",
    "    stats_to_add = stats_data_frame[stats_data_frame['id']==district_id].copy(deep=True)\n",
    "    stats_to_add['colors'] = 'rgb(129,105,75)'\n",
    "    stats_to_add.loc[stats_to_add['year']==current_year, 'colors'] = 'gray'\n",
    "    \n",
    "    bar = fig.data[1]\n",
    "    bar.x = stats_to_add['year']\n",
    "    bar.y = stats_to_add[stats_name]\n",
    "    bar.marker.color= stats_to_add['colors']\n",
    "    bar.opacity= 1.\n",
    "    \n",
    "    fig.data = (bar,fig.data[0])\n",
    "    \n",
    "    fig.data[1].opacity=.5\n",
    "    fig.data[0].name= id_to_name[district_id]\n",
    "\n",
    "    fig.update_layout(title=f\"{fig.data[0].name} vs. {fig.data[1].name}\", template='plotly_white')"
   ]
  },
  {
   "cell_type": "code",
   "execution_count": 63,
   "metadata": {},
   "outputs": [],
   "source": [
    "def show_map(selected_stats, year):\n",
    "    html = HTML('''district''')\n",
    "    html.layout.margin = '-5px 5px 5px 5px'    \n",
    "    control = WidgetControl(widget=html, position='topright', max_width=230)\n",
    "\n",
    "    # load selected stats into choro_data_all\n",
    "    choro_data_all, unit = choro_data_complete[selected_stats], units[selected_stats]\n",
    "    # for geo plot extract chosen year and assign to choro_data\n",
    "    choro_data = choro_data_all[choro_data_all['year']==year]\n",
    "    choro_data = dict(choro_data.drop(columns=['year', 'name']).to_dict('split')['data'])\n",
    "    \n",
    "    # initialize bar chart with Frankfurt vs Offenbach\n",
    "    update_figure('06412', selected_stats, choro_data_all, year)\n",
    "    update_figure('06413', selected_stats, choro_data_all, year)\n",
    "    \n",
    "    # set y-axis label\n",
    "    fig.update_layout(yaxis_title=f'{stat_dict[selected_stats]} [{unit}]', yaxis={'range':[0,max(choro_data_all[selected_stats])]})\n",
    "    \n",
    "    # define chropleth layer for basic geo plotting\n",
    "    layer = Choropleth(geo_data=geo_data,choro_data=choro_data,colormap=cm,\n",
    "                       style={'fillOpacity': 0.65, 'dashArray': '10, 10', 'weight':1})\n",
    "    \n",
    "    # define GeoJSON layer for click and hover event interactions\n",
    "    geo_json = GeoJSON(data=geo_data,\n",
    "                       style={'opacity': 0, 'dashArray': '9', 'fillOpacity': .0, 'weight': 1},\n",
    "                       hover_style={'color': 'green', 'dashArray': '0', 'fillOpacity': 0.7})\n",
    "    \n",
    "    # this is used for update of HTML \n",
    "    for f in geo_data['features']:\n",
    "        f['value'] = choro_data[f['id']] # choro_data[f['properties']['GEN']]\n",
    "\n",
    "    \n",
    "    # on hover, the html text filed is updated to show properties of the hovered county\n",
    "    def update_html(feature,  **kwargs):\n",
    "        html.value = '''\n",
    "            <h3>{}</h3><center><b>{}</b>: {} {}</center>\n",
    "        '''.format(stat_dict[selected_stats],\n",
    "                   id_to_name[feature['id']],\n",
    "                   feature['value'],\n",
    "                   unit)\n",
    "    \n",
    "    # this function is called upon a click events and triggers figure update with the arguments passed from the map\n",
    "    def update_fig_on_click(feature, **kwags):\n",
    "        update_figure(feature['id'], selected_stats, choro_data_all, year)\n",
    "    geo_json.on_hover(update_html)\n",
    "    geo_json.on_click(update_fig_on_click)\n",
    "\n",
    "    # add layers and controls; set layout parameters\n",
    "    m = Map(basemap=basemaps.OpenStreetMap.Mapnik, center=(50.5,9), zoom=8)\n",
    "    m.add_layer(layer)\n",
    "    m.add_layer(geo_json)\n",
    "    m.add_control(control)\n",
    "    m.layout.width = '40%'\n",
    "    m.layout.height = '700px'\n",
    "\n",
    "    # custom made legend using min/max normalization\n",
    "    min_value, max_value = min(choro_data.values()), max(choro_data.values())\n",
    "    legend = LegendControl(\n",
    "          {str(min_value)+' '+str(unit): cm(0),\n",
    "          str(min_value+0.5*(max_value-min_value))+' '+str(unit): cm(.5),\n",
    "          str(max_value)+' '+str(unit): cm(1)},\n",
    "          name= f\"{stat_dict[selected_stats]} ({year})\", position=\"bottomleft\")\n",
    "    m.add_control(legend)\n",
    "    return HBox([m, fig])#m"
   ]
  },
  {
   "cell_type": "code",
   "execution_count": 64,
   "metadata": {},
   "outputs": [
    {
     "data": {
      "application/vnd.jupyter.widget-view+json": {
       "model_id": "6897dd9566e84d90a2a67cc36e31aa19",
       "version_major": 2,
       "version_minor": 0
      },
      "text/plain": [
       "interactive(children=(Dropdown(description='statistics:', options=(('Getrennt erfasste Wertstoffe', 'AI1903'),…"
      ]
     },
     "metadata": {},
     "output_type": "display_data"
    }
   ],
   "source": [
    "interact(show_map, selected_stats=stats_widget, year=year_widget);"
   ]
  },
  {
   "cell_type": "markdown",
   "metadata": {},
   "source": [
    "# install extensions..."
   ]
  },
  {
   "cell_type": "code",
   "execution_count": 53,
   "metadata": {},
   "outputs": [],
   "source": [
    "#! jupyter labextension install jupyterlab-plotly@4.9.0\n",
    "#! jupyter labextension install @jupyter-widgets/jupyterlab-manager plotlywidget@4.9.0\n",
    "#! jupyter labextension install @jupyter-voila/jupyterlab-preview"
   ]
  }
 ],
 "metadata": {
  "kernelspec": {
   "display_name": "Python 3.8.3 64-bit ('cax': conda)",
   "language": "python",
   "name": "python38364bitcaxconda1a41f04c3f8d4044b2096fb9801911fc"
  },
  "language_info": {
   "codemirror_mode": {
    "name": "ipython",
    "version": 3
   },
   "file_extension": ".py",
   "mimetype": "text/x-python",
   "name": "python",
   "nbconvert_exporter": "python",
   "pygments_lexer": "ipython3",
   "version": "3.8.3"
  },
  "toc": {
   "base_numbering": 1,
   "nav_menu": {},
   "number_sections": true,
   "sideBar": true,
   "skip_h1_title": false,
   "title_cell": "Table of Contents",
   "title_sidebar": "Contents",
   "toc_cell": false,
   "toc_position": {},
   "toc_section_display": true,
   "toc_window_display": false
  }
 },
 "nbformat": 4,
 "nbformat_minor": 4
}
