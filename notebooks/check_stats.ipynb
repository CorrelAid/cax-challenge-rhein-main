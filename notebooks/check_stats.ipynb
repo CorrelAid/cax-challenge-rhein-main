{
 "cells": [
  {
   "cell_type": "markdown",
   "metadata": {
    "pycharm": {
     "name": "#%% md\n"
    }
   },
   "source": [
    "# Check statistics\n",
    "\n",
    "This file helps to find and analyze single statistics sets.\n",
    "\n",
    "### Set up requirements, import packages\n",
    "\n",
    "Assumes to use code from local, parent directory as in the repository folder structure."
   ]
  },
  {
   "cell_type": "code",
   "execution_count": 1,
   "metadata": {
    "pycharm": {
     "name": "#%%\n"
    }
   },
   "outputs": [],
   "source": [
    "%load_ext autoreload\n",
    "%autoreload\n",
    "\n",
    "import os\n",
    "if not os.path.basename(os.getcwd()) == \"datenguide-python\":\n",
    "    os.chdir(\"..\")\n",
    "    \n",
    "    \n",
    "from datenguidepy.query_helper import get_regions, get_statistics\n",
    "from datenguidepy import Query\n",
    "import pandas as pd\n",
    "import matplotlib\n",
    "%matplotlib inline\n",
    "\n",
    "pd.set_option('display.max_colwidth', 150)"
   ]
  },
  {
   "cell_type": "markdown",
   "metadata": {
    "pycharm": {
     "name": "#%% md\n"
    }
   },
   "source": [
    "## Find stats in datenguide"
   ]
  },
  {
   "cell_type": "code",
   "execution_count": 2,
   "metadata": {},
   "outputs": [
    {
     "name": "stdout",
     "output_type": "stream",
     "text": [
      "                                   name  level parent\n",
      "region_id                                            \n",
      "06411       Darmstadt, Kreisfreie Stadt  nuts3    064\n",
      "06432      Darmstadt-Dieburg, Landkreis  nuts3    064\n",
      "06411000        Darmstadt, krsfr. Stadt    lau  06411\n",
      "06432020            Roßdorf b Darmstadt    lau  06432\n",
      "064         Darmstadt, Regierungsbezirk  nuts2     06\n"
     ]
    }
   ],
   "source": [
    "# get the ID of Berlin by querying all states by name\n",
    "#get_regions().query(\"name contains 'Frankfurt'\")\n",
    "regions = get_regions().query('name.str.contains(\"Darmstadt\")', engine='python')\n",
    "#with pd.option_context('display.max_rows', None, 'display.max_columns', None):\n",
    "print(regions)"
   ]
  },
  {
   "cell_type": "code",
   "execution_count": 3,
   "metadata": {},
   "outputs": [
    {
     "name": "stdout",
     "output_type": "stream",
     "text": [
      "                                            short_description  \\\n",
      "statistic                                                       \n",
      "AI1101         Anteil neue Wohngebäude mit 1 oder 2 Wohnungen   \n",
      "AI0101      Anteil Siedlungs- und Verkehrsfläche an Gesamtfl.   \n",
      "AI0102                 Anteil Erholungsfläche an Gesamtfläche   \n",
      "AI0105          Veränderung der Siedlungs- und Verkehrsfläche   \n",
      "AI1908           Wasserabgabe je Einwohner und Tag (in Liter)   \n",
      "AI1906     verbrauchsabhängig. Entgelt Trinkw.versorg. pro m³   \n",
      "AI1907        verbrauchsunabhängig. Entgelt f.Trinkw.versorg.   \n",
      "WOH016                   Wohnungen in neuen Nichtwohngebäuden   \n",
      "WOHN04             Wohnungen in Wohngebäuden (ohne Wohnheime)   \n",
      "WOHN01                                              Wohnungen   \n",
      "WOHN02                                              Wohnungen   \n",
      "WAS007                       Wasserabgabe an Letztverbraucher   \n",
      "WAS004                                        Wassergewinnung   \n",
      "WAS003                                Wassergewinnungsanlagen   \n",
      "WAS005       Einw. m. Anschl. an d. öffentl. Wasserversorgung   \n",
      "WAS006      Hausbrunnen oder Quellen mit Trinkwassergewinnung   \n",
      "WAS001                                        Wasseraufkommen   \n",
      "WASNW3                                               Abwasser   \n",
      "BETR01                                               Betriebe   \n",
      "WASNW2                                       genutztes Wasser   \n",
      "VBR005                                         Stromverbrauch   \n",
      "WASNW0             häusliches und betriebliches Schmutzwasser   \n",
      "FLC006                                          Gebietsfläche   \n",
      "\n",
      "                                                                                                                                                long_description  \n",
      "statistic                                                                                                                                                         \n",
      "AI1101     wiki\\n==Anteil der neu errichteten Wohngebäude mit 1 oder 2\\nWohnungen an den neu errichteten Wohngebäuden insgesamt==\\n===Aussage===\\nDer Anteil ...  \n",
      "AI0101     wiki\\n==Anteil der Siedlungs- und Verkehrsfläche an der\\nGesamtfläche am 31.12.==\\n===Aussage===\\nDer Indikator gibt Auskunft über die Inanspruchn...  \n",
      "AI0102     wiki\\n==Anteil der Erholungsfläche an der Gesamtfläche am 31.12.\\nErholungsfläche==\\n===Aussage===\\nDer Indikator gibt Auskunft über die Verfügbar...  \n",
      "AI0105     wiki\\n==Veränderung der Siedlungs- und Verkehrsfläche pro Jahr==\\n===Aussage===\\nDer Indikator gibt Auskunft über die jährliche Veränderung\\nder F...  \n",
      "AI1908     wiki\\n==Wasserabgabe je versorgten Einwohner und Tag in Liter==\\n===Aussage===\\nDer Indikator gibt Auskunft über die durchschnittlich\\nabgegebene ...  \n",
      "AI1906     wiki\\n==Verbrauchsabhängiges Entgelt für die Trinkwasserversorgung\\nprivater Haushalte pro Kubikmeter==\\n===Aussage===\\nDer Indikator gibt Auskunf...  \n",
      "AI1907     wiki\\n==Haushaltsübliches verbrauchsunabhängiges Entgelt für die\\nTrinkwasserversorgung  privater Haushalte pro Jahr==\\n===Aussage===\\nDer Indikat...  \n",
      "WOH016     Wohnungen in neuen Nichtwohngebäuden\\n \\n \\nErläuterung für folgende Statistik(en):\\n31111 Statistik der Baugenehmigungen\\n \\nBegriffsinhalt:\\nWoh...  \n",
      "WOHN04     Wohnungen in Wohngebäuden (ohne Wohnheime)\\n \\n \\nErläuterung für folgende Statistik(en):\\n31111 Statistik der Baugenehmigungen\\n \\nBegriffsinhalt...  \n",
      "WOHN01     Wohnungen\\n \\n \\nErläuterung für folgende Statistik(en):\\n31111 Statistik der Baugenehmigungen\\n \\nBegriffsinhalt:\\nWohnungen\\n \\nUnter einer Wohn...  \n",
      "WOHN02     Wohnungen\\n \\n \\nErläuterung für folgende Statistik(en):\\n31111 Statistik der Baugenehmigungen\\n \\nBegriffsinhalt:\\nWohngebäude\\n \\nWohngebäude si...  \n",
      "WAS007     Wasserabgabe an Letztverbraucher\\n \\n \\nErläuterung für folgende Statistik(en):\\n32211 Erhebung der öffentlichen Wasserversorgung\\n \\nBegriffsinha...  \n",
      "WAS004     Wassergewinnung\\n \\nHierunter versteht man die Förderung von Trinkwasser in der\\nForm von Grundwasser, Quellwasser, Uferfiltrat, Fluss- Seen-\\nund...  \n",
      "WAS003     Wassergewinnungsanlagen sind z. B. Brunnen, Quellen oder\\nTalsperren, aus denen Trinkwasser für die öffentliche und\\nprivate Wasserversorgung gewo...  \n",
      "WAS005     Einwohner mit Anschluss an die öffentliche Wasserversorgung\\n \\nEs handelt sich um den Teil der Bevölkerung (ca. 99 %), der\\nüber Rohrleitungen (W...  \n",
      "WAS006     Hausbrunnen oder Quellen aus denen Trinkwasser gewonnen wird\\n \\nd.h. nicht an die öffentliche Wasserversorgung angeschlossen\\n(1 %) und versorgt ...  \n",
      "WAS001     Wasseraufkommen\\n \\n \\nErläuterung für folgende Statistik(en):\\n32221 Erhebung der nichtöffentlichen Wasserversorgung und\\n      Abwasserentsorgun...  \n",
      "WASNW3     Durch Gebrauch verändertes abfließendes Wasser und jedes in\\ndie Kanalisation gelangende Wasser. Man unterscheidet z. B.\\nSchmutzwasser (häuslich ...  \n",
      "BETR01     Betriebe\\n \\n \\nErläuterung für folgende Statistik(en):\\n32231 Wasserversorgung/Abwasserbeseitigung im Verarbeitenden\\n      Gewerbe\\n42111/42271 ...  \n",
      "WASNW2     Gesamtnutzung\\n \\nErläuterung für folgende Statistik(en):\\n32231 Statistik der Wasserversorgung und Abwasserbeseitigung\\nim Bereich Verarbeitendes...  \n",
      "VBR005     1.1 Monatsbericht für Unternehmen und Betriebe im Bergbau\\nund im Verarbeitenden GewerbeDatennachweis: 1977 bis 1994\\n \\n1.2 Monatsbericht für Unt...  \n",
      "WASNW0     häusliches und betriebliches Schmutzwasser\\n \\n \\nErläuterung für folgende Statistik(en):\\n32213 Erhebung der öffentlichen Abwasserbehandlung\\n \\n...  \n",
      "FLC006     Erläuterung für folgende Statistik(en):\\nFlächenerhebung nach Art der tatsächlichen Nutzung\\n \\nBegriffsinhalt:\\nDie Angaben über die Gebietsfläch...  \n"
     ]
    }
   ],
   "source": [
    "# find out the name of the desired statistic\n",
    "with pd.option_context('display.max_rows', None, 'display.max_columns', None):\n",
    "    print(get_statistics().query('long_description.str.contains(\"Wasser\")', engine='python'))\n",
    "    \n",
    "# Search words: wohn, Umwelt, Grün, Verkehr, Auto, Abfall, heiz, energ, Strom, Wasser\n",
    "# No search results for search words: Luft, Energie"
   ]
  },
  {
   "cell_type": "markdown",
   "metadata": {},
   "source": [
    "### Interesting statistics on environmental topics"
   ]
  },
  {
   "cell_type": "markdown",
   "metadata": {},
   "source": [
    "\n",
    "| statistic code |  long_description  | availabilty  |  normalisation neeed | relevant for demo |\n",
    "| -------- | -------- | -------- | -------- | -------- |\n",
    "| **Waste and waste treatment**\n",
    "| AI1902 | Haus- und Sperrmüll | | done | yes |\n",
    "| AI1903  |                                 Getrennt erfasste Wertstoffe (je Einwohner) | | done | yes\n",
    "| AI1904    |                                   Abfälle aus der Biotonne | | done | yes\n",
    "| AI1905    |               Biologisch abbaubare Garten- und Parkabfälle (je Einwohner)  | | done | yes \n",
    "| AI1901    |                              Haushaltsabfälle je Einwohner |  | done | yes |\n",
    "| **Water**     |\n",
    "| AI1908    |       Wasserabgabe je Einwohner und Tag (in Liter)| data incomplete | done | yes |\n",
    "| **Land use**  |\n",
    "| AI0105    |      Veränderung der Siedlungs- und Verkehrsfläche | data incomplete | done (100 for %) | yes|\n",
    "| AI0113    |                 Siedlungs- und Verkehrsfläche je Einwohner | | done (100 for %) | yes|\n",
    "| AI0102    |             Anteil Erholungsfläche an Gesamtfläche   | | done (100 for %) | yes|\n",
    "| AI0106    |                    Anteil Siedlungsfläche an Gesamtfläche   | | done (100 for %) | yes|\n",
    "| AI0107    |                     Anteil Verkehrsfläche an Gesamtfläche   | | done (100 for %) | yes|\n",
    "| AI0108    |              Anteil Landwirtschaftsfläche an Gesamtfläche   | | done (100 for %) | yes|\n",
    "| AI0109    |                         Anteil Waldfläche an Gesamtfläche   | data incomplete| done (100 for %) | yes|\n",
    "| AI0110    | Anteil Sport-, Freizeit-, Erholungsfläche an Gesamtfläche   | | done (100 for %) | yes|\n",
    "| AI0111    |      Anteil Siedlungs- und Verkehrsfläche an Gesamtfläche | | done (100 for %) | yes\n",
    "| AI_Z18    |                 Durchschnittliche Wohnfläche je Einwohner | | done (100 for %) | yes |\n",
    "| **Agriculture**|\n",
    "| AI0904     |                  Ökologischer Landbau (Anteil an gesamter Landwirtschaftsflaeche), oder folgende zwei | | done (100 for %) | yes |\n",
    "| FLC048     |                  Landfläche (LF) in Betrieben mit ökologischem Landbau  (im Verhaeltnis zu FLC017) | only 2010, 2016 | per capita | no\n",
    "| FLC017     |                        Landwirtschaftlich genutzte Fläche | only some years | per capita | no\n",
    "| **Energy, traffic**     |\n",
    "| AI1301     |                            Pkw je 1.000 Einwohner | | done | yes |\n",
    "| [not in datenguidpy] |        31121-06-01-4 Fertigstellungen neuer Wohngebäude und Nichtwohngebäude  sowie Wohnungen in Wohngebäuden nach Zahl der Wohnungen und primär verwendeter Heizenergie - Jahressumme \n",
    "| **Populatino, labour** |\n",
    "| AI0701 | Arbeitsplatzdichte (Arbeitsplätze pro 1000 Einwohner) | until 2017 | done | yes \n",
    "| BEVZ15 | Bevölkerung (ab 15 Jahren) | only 2011 | per capita (100 for %)| no\n",
    "| BEV083 | Zuzüge aus dem  Ausland über die Gemeindegrenzen | | per capita (factor 1000) | yes\n",
    "| BEV084 | Fortzüge ins Ausland über Gemeindegrenzen | | per capita (factor 1000) | yes\n",
    "| BEV085 | Zuzüge über die Kreisgrenzen | | per capita (factor 1000) | yes\n",
    "| BEV086 | Fortzüge über die Kreisgrenzen | | per capita (factor 1000) | yes"
   ]
  },
  {
   "cell_type": "code",
   "execution_count": 4,
   "metadata": {},
   "outputs": [],
   "source": [
    "# statistic code |  long_description    | available   |  normalisation | relevant for demo\n",
    "\n",
    "# Category Umwelt\n",
    "# Abfall... total normalised to population\n",
    "# AI1902                                            Haus- und Sperrmüll   \n",
    "# AI1903                                   Getrennt erfasste Wertstoffe   \n",
    "# AI1904                                       Abfälle aus der Biotonne   \n",
    "# AI1905                   Biologisch abbaubare Garten- und Parkabfälle \n",
    "# AI1901                                  Haushaltsabfälle je Einwohner   \n",
    "\n",
    "# Water\n",
    "# AI1908           Wasserabgabe je Einwohner und Tag (in Liter)   \n",
    "\n",
    "# Land use\n",
    "# AI0105          Veränderung der Siedlungs- und Verkehrsfläche \n",
    "# AI0113                     Siedlungs- und Verkehrsfläche je Einwohner\n",
    "# AI0102                 Anteil Erholungsfläche an Gesamtfläche   \n",
    "# AI0106                        Anteil Siedlungsfläche an Gesamtfläche   \n",
    "# AI0107                         Anteil Verkehrsfläche an Gesamtfläche   \n",
    "# AI0108                  Anteil Landwirtschaftsfläche an Gesamtfläche   \n",
    "# AI0109                             Anteil Waldfläche an Gesamtfläche   \n",
    "# AI0110     Anteil Sport-, Freizeit-, Erholungsfläche an Gesamtfläche   \n",
    "# AI0111          Anteil Siedlungs- und Verkehrsfläche an Gesamtfläche   \n",
    "# AI0113                    Siedlungs- und Verkehrsfläche je Einwohner   \n",
    "# AI_Z18                     Durchschnittliche Wohnfläche je Einwohner   \n",
    "\n",
    "# Agriculture\n",
    "# AI0904                       Ökologischer Landbau (Anteil an gesamter Landwirtschaftsflaeche), oder folgende zwei\n",
    "# FLC048                       LF in Betrieben mit ökologischem Landbau  (im Verhaeltnis zu FLC017)\n",
    "# FLC017                             Landwirtschaftlich genutzte Fläche\n",
    "\n",
    "# AI1301                                 Pkw je 1.000 Einwohner   \n",
    "\n",
    "# [not in datenguidpy]         31121-06-01-4 Fertigstellungen neuer Wohngebäude und Nichtwohngebäude\n",
    "# sowie Wohnungen in Wohngebäuden nach Zahl der Wohnungen und\n",
    "# primär verwendeter Heizenergie - Jahressumme \n",
    "\n",
    "\n",
    "# Interesting statistics on population:\n",
    "\n",
    "# AI0212 Wanderungssaldo\n",
    "# EKM014            verfüg. Einkommen der priv. Haushalte je Einwohner   \n",
    "# AI_Z12                              Durchschnittliche Haushaltsgröße   \n",
    "# AI_Z13                                   Anteil Einpersonenhaushalte\n",
    "# AI_Z17                                               Leerstandsquote   \n",
    "# AI_Z18                     Durchschnittliche Wohnfläche je Einwohner   \n",
    "# AI_Z19                       Durchschnittliche Wohnfläche je Wohnung\n",
    "# AI0701                                            Arbeitsplatzdichte   \n",
    "# BEVZ20                                                   Bevölkerung   \n",
    "# BEVZ15                                    Bevölkerung (ab 15 Jahren)   \n",
    "# BEVZ21                            Bevölkerung in privaten Haushalten   \n",
    "# PHHZ20                                             Private Haushalte   \n",
    "# BEVSTD                                             Bevölkerungsstand   \n",
    "# BEV083              Zuzüge aus dem  Ausland über die Gemeindegrenzen   \n",
    "# BEV084                     Fortzüge ins Ausland über Gemeindegrenzen   \n",
    "# BEV085                                  Zuzüge über die Kreisgrenzen   \n",
    "# BEV086                                Fortzüge über die Kreisgrenzen "
   ]
  },
  {
   "cell_type": "markdown",
   "metadata": {},
   "source": [
    "## Analyze a single stats set"
   ]
  },
  {
   "cell_type": "code",
   "execution_count": 5,
   "metadata": {},
   "outputs": [
    {
     "data": {
      "text/plain": [
       "range(2014, 2016)"
      ]
     },
     "execution_count": 5,
     "metadata": {},
     "output_type": "execute_result"
    }
   ],
   "source": [
    "years = range(2005, 2016)\n",
    "#years = [2005, 2006, 2007]\n",
    "years[-2:]"
   ]
  },
  {
   "cell_type": "code",
   "execution_count": 70,
   "metadata": {},
   "outputs": [
    {
     "data": {
      "text/html": [
       "<div>\n",
       "<style scoped>\n",
       "    .dataframe tbody tr th:only-of-type {\n",
       "        vertical-align: middle;\n",
       "    }\n",
       "\n",
       "    .dataframe tbody tr th {\n",
       "        vertical-align: top;\n",
       "    }\n",
       "\n",
       "    .dataframe thead th {\n",
       "        text-align: right;\n",
       "    }\n",
       "</style>\n",
       "<table border=\"1\" class=\"dataframe\">\n",
       "  <thead>\n",
       "    <tr style=\"text-align: right;\">\n",
       "      <th></th>\n",
       "      <th>short_description</th>\n",
       "      <th>long_description</th>\n",
       "    </tr>\n",
       "    <tr>\n",
       "      <th>statistic</th>\n",
       "      <th></th>\n",
       "      <th></th>\n",
       "    </tr>\n",
       "  </thead>\n",
       "  <tbody>\n",
       "    <tr>\n",
       "      <th>AI0113</th>\n",
       "      <td>Siedlungs- und Verkehrsfläche je Einwohner</td>\n",
       "      <td>wiki\\n==Siedlungs- und Verkehrsfläche je Einwohner am 31.12. in\\nm² nach ALKIS (ab 2016)==\\n===Aussage===\\nDer Indikator gibt Aufschluss über das ...</td>\n",
       "    </tr>\n",
       "  </tbody>\n",
       "</table>\n",
       "</div>"
      ],
      "text/plain": [
       "                                    short_description  \\\n",
       "statistic                                               \n",
       "AI0113     Siedlungs- und Verkehrsfläche je Einwohner   \n",
       "\n",
       "                                                                                                                                                long_description  \n",
       "statistic                                                                                                                                                         \n",
       "AI0113     wiki\\n==Siedlungs- und Verkehrsfläche je Einwohner am 31.12. in\\nm² nach ALKIS (ab 2016)==\\n===Aussage===\\nDer Indikator gibt Aufschluss über das ...  "
      ]
     },
     "execution_count": 70,
     "metadata": {},
     "output_type": "execute_result"
    }
   ],
   "source": [
    "stat = 'AI0113'\n",
    "get_statistics().query('statistic.str.contains(\"{}\")'.format(stat), engine = 'python')"
   ]
  },
  {
   "cell_type": "code",
   "execution_count": 71,
   "metadata": {},
   "outputs": [],
   "source": [
    "q = Query.region(['06412', '06411'])\n",
    "\n",
    "#f1 = q.add_field('AI1302')\n",
    "#f2 = q.add_field('AI1304')\n",
    "\n",
    "f1 = q.add_field(stat) \n",
    "#f2 = q.add_field('BEV084')"
   ]
  },
  {
   "cell_type": "code",
   "execution_count": 72,
   "metadata": {},
   "outputs": [
    {
     "name": "stdout",
     "output_type": "stream",
     "text": [
      "\u001b[1mkind:\u001b[0m\n",
      "OBJECT\n",
      "\n",
      "\u001b[1mdescription:\u001b[0m\n",
      "Siedlungs- und Verkehrsfläche je Einwohner\n",
      "\n",
      "\u001b[1marguments:\u001b[0m\n",
      "\u001b[4myear\u001b[0m: LIST of type SCALAR(Int)\n",
      "\n",
      "\u001b[4mstatistics\u001b[0m: LIST of type ENUM(AI0113Statistics)\n",
      "enum values:\n",
      "R99910: Regionalatlas Deutschland\n",
      "\n",
      "\u001b[1mfields:\u001b[0m\n",
      "id: Interne eindeutige ID\n",
      "year: Jahr des Stichtages\n",
      "value: Wert\n",
      "source: Quellenverweis zur GENESIS Regionaldatenbank\n",
      "\n",
      "\u001b[1menum values:\u001b[0m\n",
      "None\n"
     ]
    }
   ],
   "source": [
    "f1.get_info()"
   ]
  },
  {
   "cell_type": "code",
   "execution_count": 73,
   "metadata": {},
   "outputs": [],
   "source": [
    "#f2.get_info()"
   ]
  },
  {
   "cell_type": "markdown",
   "metadata": {
    "pycharm": {
     "name": "#%% md\n"
    }
   },
   "source": [
    "### Plot results"
   ]
  },
  {
   "cell_type": "code",
   "execution_count": 74,
   "metadata": {},
   "outputs": [
    {
     "data": {
      "text/html": [
       "<div>\n",
       "<style scoped>\n",
       "    .dataframe tbody tr th:only-of-type {\n",
       "        vertical-align: middle;\n",
       "    }\n",
       "\n",
       "    .dataframe tbody tr th {\n",
       "        vertical-align: top;\n",
       "    }\n",
       "\n",
       "    .dataframe thead th {\n",
       "        text-align: right;\n",
       "    }\n",
       "</style>\n",
       "<table border=\"1\" class=\"dataframe\">\n",
       "  <thead>\n",
       "    <tr style=\"text-align: right;\">\n",
       "      <th></th>\n",
       "      <th>id</th>\n",
       "      <th>name</th>\n",
       "      <th>year</th>\n",
       "      <th>AI0113</th>\n",
       "      <th>AI0113_source_title_de</th>\n",
       "      <th>AI0113_source_valid_from</th>\n",
       "      <th>AI0113_source_periodicity</th>\n",
       "      <th>AI0113_source_name</th>\n",
       "      <th>AI0113_source_url</th>\n",
       "    </tr>\n",
       "  </thead>\n",
       "  <tbody>\n",
       "    <tr>\n",
       "      <th>0</th>\n",
       "      <td>06412</td>\n",
       "      <td>Frankfurt am Main, Kreisfreie Stadt</td>\n",
       "      <td>2016</td>\n",
       "      <td>196.9</td>\n",
       "      <td>Regionalatlas Deutschland</td>\n",
       "      <td>1995-01-01T00:00:00</td>\n",
       "      <td>JAEHRLICH</td>\n",
       "      <td>99910</td>\n",
       "      <td>None</td>\n",
       "    </tr>\n",
       "    <tr>\n",
       "      <th>1</th>\n",
       "      <td>06412</td>\n",
       "      <td>Frankfurt am Main, Kreisfreie Stadt</td>\n",
       "      <td>2016</td>\n",
       "      <td>196.9</td>\n",
       "      <td>Regionalatlas Deutschland</td>\n",
       "      <td>1995-01-01T00:00:00</td>\n",
       "      <td>JAEHRLICH</td>\n",
       "      <td>99910</td>\n",
       "      <td>None</td>\n",
       "    </tr>\n",
       "    <tr>\n",
       "      <th>2</th>\n",
       "      <td>06412</td>\n",
       "      <td>Frankfurt am Main, Kreisfreie Stadt</td>\n",
       "      <td>2017</td>\n",
       "      <td>194.4</td>\n",
       "      <td>Regionalatlas Deutschland</td>\n",
       "      <td>1995-01-01T00:00:00</td>\n",
       "      <td>JAEHRLICH</td>\n",
       "      <td>99910</td>\n",
       "      <td>None</td>\n",
       "    </tr>\n",
       "    <tr>\n",
       "      <th>3</th>\n",
       "      <td>06412</td>\n",
       "      <td>Frankfurt am Main, Kreisfreie Stadt</td>\n",
       "      <td>2017</td>\n",
       "      <td>194.4</td>\n",
       "      <td>Regionalatlas Deutschland</td>\n",
       "      <td>1995-01-01T00:00:00</td>\n",
       "      <td>JAEHRLICH</td>\n",
       "      <td>99910</td>\n",
       "      <td>None</td>\n",
       "    </tr>\n",
       "    <tr>\n",
       "      <th>4</th>\n",
       "      <td>06412</td>\n",
       "      <td>Frankfurt am Main, Kreisfreie Stadt</td>\n",
       "      <td>2018</td>\n",
       "      <td>192.8</td>\n",
       "      <td>Regionalatlas Deutschland</td>\n",
       "      <td>1995-01-01T00:00:00</td>\n",
       "      <td>JAEHRLICH</td>\n",
       "      <td>99910</td>\n",
       "      <td>None</td>\n",
       "    </tr>\n",
       "    <tr>\n",
       "      <th>0</th>\n",
       "      <td>06411</td>\n",
       "      <td>Darmstadt, Kreisfreie Stadt</td>\n",
       "      <td>2016</td>\n",
       "      <td>271.6</td>\n",
       "      <td>Regionalatlas Deutschland</td>\n",
       "      <td>1995-01-01T00:00:00</td>\n",
       "      <td>JAEHRLICH</td>\n",
       "      <td>99910</td>\n",
       "      <td>None</td>\n",
       "    </tr>\n",
       "    <tr>\n",
       "      <th>1</th>\n",
       "      <td>06411</td>\n",
       "      <td>Darmstadt, Kreisfreie Stadt</td>\n",
       "      <td>2016</td>\n",
       "      <td>271.6</td>\n",
       "      <td>Regionalatlas Deutschland</td>\n",
       "      <td>1995-01-01T00:00:00</td>\n",
       "      <td>JAEHRLICH</td>\n",
       "      <td>99910</td>\n",
       "      <td>None</td>\n",
       "    </tr>\n",
       "    <tr>\n",
       "      <th>2</th>\n",
       "      <td>06411</td>\n",
       "      <td>Darmstadt, Kreisfreie Stadt</td>\n",
       "      <td>2017</td>\n",
       "      <td>270.5</td>\n",
       "      <td>Regionalatlas Deutschland</td>\n",
       "      <td>1995-01-01T00:00:00</td>\n",
       "      <td>JAEHRLICH</td>\n",
       "      <td>99910</td>\n",
       "      <td>None</td>\n",
       "    </tr>\n",
       "    <tr>\n",
       "      <th>3</th>\n",
       "      <td>06411</td>\n",
       "      <td>Darmstadt, Kreisfreie Stadt</td>\n",
       "      <td>2017</td>\n",
       "      <td>270.5</td>\n",
       "      <td>Regionalatlas Deutschland</td>\n",
       "      <td>1995-01-01T00:00:00</td>\n",
       "      <td>JAEHRLICH</td>\n",
       "      <td>99910</td>\n",
       "      <td>None</td>\n",
       "    </tr>\n",
       "    <tr>\n",
       "      <th>4</th>\n",
       "      <td>06411</td>\n",
       "      <td>Darmstadt, Kreisfreie Stadt</td>\n",
       "      <td>2018</td>\n",
       "      <td>268.7</td>\n",
       "      <td>Regionalatlas Deutschland</td>\n",
       "      <td>1995-01-01T00:00:00</td>\n",
       "      <td>JAEHRLICH</td>\n",
       "      <td>99910</td>\n",
       "      <td>None</td>\n",
       "    </tr>\n",
       "  </tbody>\n",
       "</table>\n",
       "</div>"
      ],
      "text/plain": [
       "      id                                 name  year  AI0113  \\\n",
       "0  06412  Frankfurt am Main, Kreisfreie Stadt  2016   196.9   \n",
       "1  06412  Frankfurt am Main, Kreisfreie Stadt  2016   196.9   \n",
       "2  06412  Frankfurt am Main, Kreisfreie Stadt  2017   194.4   \n",
       "3  06412  Frankfurt am Main, Kreisfreie Stadt  2017   194.4   \n",
       "4  06412  Frankfurt am Main, Kreisfreie Stadt  2018   192.8   \n",
       "0  06411          Darmstadt, Kreisfreie Stadt  2016   271.6   \n",
       "1  06411          Darmstadt, Kreisfreie Stadt  2016   271.6   \n",
       "2  06411          Darmstadt, Kreisfreie Stadt  2017   270.5   \n",
       "3  06411          Darmstadt, Kreisfreie Stadt  2017   270.5   \n",
       "4  06411          Darmstadt, Kreisfreie Stadt  2018   268.7   \n",
       "\n",
       "      AI0113_source_title_de AI0113_source_valid_from  \\\n",
       "0  Regionalatlas Deutschland      1995-01-01T00:00:00   \n",
       "1  Regionalatlas Deutschland      1995-01-01T00:00:00   \n",
       "2  Regionalatlas Deutschland      1995-01-01T00:00:00   \n",
       "3  Regionalatlas Deutschland      1995-01-01T00:00:00   \n",
       "4  Regionalatlas Deutschland      1995-01-01T00:00:00   \n",
       "0  Regionalatlas Deutschland      1995-01-01T00:00:00   \n",
       "1  Regionalatlas Deutschland      1995-01-01T00:00:00   \n",
       "2  Regionalatlas Deutschland      1995-01-01T00:00:00   \n",
       "3  Regionalatlas Deutschland      1995-01-01T00:00:00   \n",
       "4  Regionalatlas Deutschland      1995-01-01T00:00:00   \n",
       "\n",
       "  AI0113_source_periodicity AI0113_source_name AI0113_source_url  \n",
       "0                 JAEHRLICH              99910              None  \n",
       "1                 JAEHRLICH              99910              None  \n",
       "2                 JAEHRLICH              99910              None  \n",
       "3                 JAEHRLICH              99910              None  \n",
       "4                 JAEHRLICH              99910              None  \n",
       "0                 JAEHRLICH              99910              None  \n",
       "1                 JAEHRLICH              99910              None  \n",
       "2                 JAEHRLICH              99910              None  \n",
       "3                 JAEHRLICH              99910              None  \n",
       "4                 JAEHRLICH              99910              None  "
      ]
     },
     "execution_count": 74,
     "metadata": {},
     "output_type": "execute_result"
    }
   ],
   "source": [
    "results = q.results()\n",
    "results\n",
    "#with pd.option_context('display.max_rows', None, 'display.max_columns', None):\n",
    "#    print(results)"
   ]
  },
  {
   "cell_type": "code",
   "execution_count": 75,
   "metadata": {},
   "outputs": [
    {
     "data": {
      "text/plain": [
       "<matplotlib.axes._subplots.AxesSubplot at 0x1f142f12128>"
      ]
     },
     "execution_count": 75,
     "metadata": {},
     "output_type": "execute_result"
    },
    {
     "data": {
      "image/png": "[encoded data removed]",
      "text/plain": [
       "<Figure size 432x288 with 1 Axes>"
      ]
     },
     "metadata": {
      "needs_background": "light"
     },
     "output_type": "display_data"
    }
   ],
   "source": [
    "#results.set_index('year')[['BEV083', 'BEV084']].plot()\n",
    "results.set_index('year')[[stat]].plot()"
   ]
  },
  {
   "cell_type": "markdown",
   "metadata": {},
   "source": [
    "### Same but interactive plot with plotly"
   ]
  },
  {
   "cell_type": "code",
   "execution_count": 76,
   "metadata": {},
   "outputs": [
    {
     "data": {
      "application/vnd.plotly.v1+json": {
       "config": {
        "plotlyServerURL": "https://plot.ly"
       },
       "data": [
        {
         "mode": "lines+markers",
         "type": "scattergl",
         "x": [
          2016,
          2016,
          2017,
          2017,
          2018,
          2016,
          2016,
          2017,
          2017,
          2018
         ],
         "y": [
          196.9,
          196.9,
          194.4,
          194.4,
          192.8,
          271.6,
          271.6,
          270.5,
          270.5,
          268.7
         ]
        }
       ],
       "layout": {
        "autosize": true,
        "template": {
         "data": {
          "bar": [
           {
            "error_x": {
             "color": "#2a3f5f"
            },
            "error_y": {
             "color": "#2a3f5f"
            },
            "marker": {
             "line": {
              "color": "#E5ECF6",
              "width": 0.5
             }
            },
            "type": "bar"
           }
          ],
          "barpolar": [
           {
            "marker": {
             "line": {
              "color": "#E5ECF6",
              "width": 0.5
             }
            },
            "type": "barpolar"
           }
          ],
          "carpet": [
           {
            "aaxis": {
             "endlinecolor": "#2a3f5f",
             "gridcolor": "white",
             "linecolor": "white",
             "minorgridcolor": "white",
             "startlinecolor": "#2a3f5f"
            },
            "baxis": {
             "endlinecolor": "#2a3f5f",
             "gridcolor": "white",
             "linecolor": "white",
             "minorgridcolor": "white",
             "startlinecolor": "#2a3f5f"
            },
            "type": "carpet"
           }
          ],
          "choropleth": [
           {
            "colorbar": {
             "outlinewidth": 0,
             "ticks": ""
            },
            "type": "choropleth"
           }
          ],
          "contour": [
           {
            "colorbar": {
             "outlinewidth": 0,
             "ticks": ""
            },
            "colorscale": [
             [
              0,
              "#0d0887"
             ],
             [
              0.1111111111111111,
              "#46039f"
             ],
             [
              0.2222222222222222,
              "#7201a8"
             ],
             [
              0.3333333333333333,
              "#9c179e"
             ],
             [
              0.4444444444444444,
              "#bd3786"
             ],
             [
              0.5555555555555556,
              "#d8576b"
             ],
             [
              0.6666666666666666,
              "#ed7953"
             ],
             [
              0.7777777777777778,
              "#fb9f3a"
             ],
             [
              0.8888888888888888,
              "#fdca26"
             ],
             [
              1,
              "#f0f921"
             ]
            ],
            "type": "contour"
           }
          ],
          "contourcarpet": [
           {
            "colorbar": {
             "outlinewidth": 0,
             "ticks": ""
            },
            "type": "contourcarpet"
           }
          ],
          "heatmap": [
           {
            "colorbar": {
             "outlinewidth": 0,
             "ticks": ""
            },
            "colorscale": [
             [
              0,
              "#0d0887"
             ],
             [
              0.1111111111111111,
              "#46039f"
             ],
             [
              0.2222222222222222,
              "#7201a8"
             ],
             [
              0.3333333333333333,
              "#9c179e"
             ],
             [
              0.4444444444444444,
              "#bd3786"
             ],
             [
              0.5555555555555556,
              "#d8576b"
             ],
             [
              0.6666666666666666,
              "#ed7953"
             ],
             [
              0.7777777777777778,
              "#fb9f3a"
             ],
             [
              0.8888888888888888,
              "#fdca26"
             ],
             [
              1,
              "#f0f921"
             ]
            ],
            "type": "heatmap"
           }
          ],
          "heatmapgl": [
           {
            "colorbar": {
             "outlinewidth": 0,
             "ticks": ""
            },
            "colorscale": [
             [
              0,
              "#0d0887"
             ],
             [
              0.1111111111111111,
              "#46039f"
             ],
             [
              0.2222222222222222,
              "#7201a8"
             ],
             [
              0.3333333333333333,
              "#9c179e"
             ],
             [
              0.4444444444444444,
              "#bd3786"
             ],
             [
              0.5555555555555556,
              "#d8576b"
             ],
             [
              0.6666666666666666,
              "#ed7953"
             ],
             [
              0.7777777777777778,
              "#fb9f3a"
             ],
             [
              0.8888888888888888,
              "#fdca26"
             ],
             [
              1,
              "#f0f921"
             ]
            ],
            "type": "heatmapgl"
           }
          ],
          "histogram": [
           {
            "marker": {
             "colorbar": {
              "outlinewidth": 0,
              "ticks": ""
             }
            },
            "type": "histogram"
           }
          ],
          "histogram2d": [
           {
            "colorbar": {
             "outlinewidth": 0,
             "ticks": ""
            },
            "colorscale": [
             [
              0,
              "#0d0887"
             ],
             [
              0.1111111111111111,
              "#46039f"
             ],
             [
              0.2222222222222222,
              "#7201a8"
             ],
             [
              0.3333333333333333,
              "#9c179e"
             ],
             [
              0.4444444444444444,
              "#bd3786"
             ],
             [
              0.5555555555555556,
              "#d8576b"
             ],
             [
              0.6666666666666666,
              "#ed7953"
             ],
             [
              0.7777777777777778,
              "#fb9f3a"
             ],
             [
              0.8888888888888888,
              "#fdca26"
             ],
             [
              1,
              "#f0f921"
             ]
            ],
            "type": "histogram2d"
           }
          ],
          "histogram2dcontour": [
           {
            "colorbar": {
             "outlinewidth": 0,
             "ticks": ""
            },
            "colorscale": [
             [
              0,
              "#0d0887"
             ],
             [
              0.1111111111111111,
              "#46039f"
             ],
             [
              0.2222222222222222,
              "#7201a8"
             ],
             [
              0.3333333333333333,
              "#9c179e"
             ],
             [
              0.4444444444444444,
              "#bd3786"
             ],
             [
              0.5555555555555556,
              "#d8576b"
             ],
             [
              0.6666666666666666,
              "#ed7953"
             ],
             [
              0.7777777777777778,
              "#fb9f3a"
             ],
             [
              0.8888888888888888,
              "#fdca26"
             ],
             [
              1,
              "#f0f921"
             ]
            ],
            "type": "histogram2dcontour"
           }
          ],
          "mesh3d": [
           {
            "colorbar": {
             "outlinewidth": 0,
             "ticks": ""
            },
            "type": "mesh3d"
           }
          ],
          "parcoords": [
           {
            "line": {
             "colorbar": {
              "outlinewidth": 0,
              "ticks": ""
             }
            },
            "type": "parcoords"
           }
          ],
          "pie": [
           {
            "automargin": true,
            "type": "pie"
           }
          ],
          "scatter": [
           {
            "marker": {
             "colorbar": {
              "outlinewidth": 0,
              "ticks": ""
             }
            },
            "type": "scatter"
           }
          ],
          "scatter3d": [
           {
            "line": {
             "colorbar": {
              "outlinewidth": 0,
              "ticks": ""
             }
            },
            "marker": {
             "colorbar": {
              "outlinewidth": 0,
              "ticks": ""
             }
            },
            "type": "scatter3d"
           }
          ],
          "scattercarpet": [
           {
            "marker": {
             "colorbar": {
              "outlinewidth": 0,
              "ticks": ""
             }
            },
            "type": "scattercarpet"
           }
          ],
          "scattergeo": [
           {
            "marker": {
             "colorbar": {
              "outlinewidth": 0,
              "ticks": ""
             }
            },
            "type": "scattergeo"
           }
          ],
          "scattergl": [
           {
            "marker": {
             "colorbar": {
              "outlinewidth": 0,
              "ticks": ""
             }
            },
            "type": "scattergl"
           }
          ],
          "scattermapbox": [
           {
            "marker": {
             "colorbar": {
              "outlinewidth": 0,
              "ticks": ""
             }
            },
            "type": "scattermapbox"
           }
          ],
          "scatterpolar": [
           {
            "marker": {
             "colorbar": {
              "outlinewidth": 0,
              "ticks": ""
             }
            },
            "type": "scatterpolar"
           }
          ],
          "scatterpolargl": [
           {
            "marker": {
             "colorbar": {
              "outlinewidth": 0,
              "ticks": ""
             }
            },
            "type": "scatterpolargl"
           }
          ],
          "scatterternary": [
           {
            "marker": {
             "colorbar": {
              "outlinewidth": 0,
              "ticks": ""
             }
            },
            "type": "scatterternary"
           }
          ],
          "surface": [
           {
            "colorbar": {
             "outlinewidth": 0,
             "ticks": ""
            },
            "colorscale": [
             [
              0,
              "#0d0887"
             ],
             [
              0.1111111111111111,
              "#46039f"
             ],
             [
              0.2222222222222222,
              "#7201a8"
             ],
             [
              0.3333333333333333,
              "#9c179e"
             ],
             [
              0.4444444444444444,
              "#bd3786"
             ],
             [
              0.5555555555555556,
              "#d8576b"
             ],
             [
              0.6666666666666666,
              "#ed7953"
             ],
             [
              0.7777777777777778,
              "#fb9f3a"
             ],
             [
              0.8888888888888888,
              "#fdca26"
             ],
             [
              1,
              "#f0f921"
             ]
            ],
            "type": "surface"
           }
          ],
          "table": [
           {
            "cells": {
             "fill": {
              "color": "#EBF0F8"
             },
             "line": {
              "color": "white"
             }
            },
            "header": {
             "fill": {
              "color": "#C8D4E3"
             },
             "line": {
              "color": "white"
             }
            },
            "type": "table"
           }
          ]
         },
         "layout": {
          "annotationdefaults": {
           "arrowcolor": "#2a3f5f",
           "arrowhead": 0,
           "arrowwidth": 1
          },
          "coloraxis": {
           "colorbar": {
            "outlinewidth": 0,
            "ticks": ""
           }
          },
          "colorscale": {
           "diverging": [
            [
             0,
             "#8e0152"
            ],
            [
             0.1,
             "#c51b7d"
            ],
            [
             0.2,
             "#de77ae"
            ],
            [
             0.3,
             "#f1b6da"
            ],
            [
             0.4,
             "#fde0ef"
            ],
            [
             0.5,
             "#f7f7f7"
            ],
            [
             0.6,
             "#e6f5d0"
            ],
            [
             0.7,
             "#b8e186"
            ],
            [
             0.8,
             "#7fbc41"
            ],
            [
             0.9,
             "#4d9221"
            ],
            [
             1,
             "#276419"
            ]
           ],
           "sequential": [
            [
             0,
             "#0d0887"
            ],
            [
             0.1111111111111111,
             "#46039f"
            ],
            [
             0.2222222222222222,
             "#7201a8"
            ],
            [
             0.3333333333333333,
             "#9c179e"
            ],
            [
             0.4444444444444444,
             "#bd3786"
            ],
            [
             0.5555555555555556,
             "#d8576b"
            ],
            [
             0.6666666666666666,
             "#ed7953"
            ],
            [
             0.7777777777777778,
             "#fb9f3a"
            ],
            [
             0.8888888888888888,
             "#fdca26"
            ],
            [
             1,
             "#f0f921"
            ]
           ],
           "sequentialminus": [
            [
             0,
             "#0d0887"
            ],
            [
             0.1111111111111111,
             "#46039f"
            ],
            [
             0.2222222222222222,
             "#7201a8"
            ],
            [
             0.3333333333333333,
             "#9c179e"
            ],
            [
             0.4444444444444444,
             "#bd3786"
            ],
            [
             0.5555555555555556,
             "#d8576b"
            ],
            [
             0.6666666666666666,
             "#ed7953"
            ],
            [
             0.7777777777777778,
             "#fb9f3a"
            ],
            [
             0.8888888888888888,
             "#fdca26"
            ],
            [
             1,
             "#f0f921"
            ]
           ]
          },
          "colorway": [
           "#636efa",
           "#EF553B",
           "#00cc96",
           "#ab63fa",
           "#FFA15A",
           "#19d3f3",
           "#FF6692",
           "#B6E880",
           "#FF97FF",
           "#FECB52"
          ],
          "font": {
           "color": "#2a3f5f"
          },
          "geo": {
           "bgcolor": "white",
           "lakecolor": "white",
           "landcolor": "#E5ECF6",
           "showlakes": true,
           "showland": true,
           "subunitcolor": "white"
          },
          "hoverlabel": {
           "align": "left"
          },
          "hovermode": "closest",
          "mapbox": {
           "style": "light"
          },
          "paper_bgcolor": "white",
          "plot_bgcolor": "#E5ECF6",
          "polar": {
           "angularaxis": {
            "gridcolor": "white",
            "linecolor": "white",
            "ticks": ""
           },
           "bgcolor": "#E5ECF6",
           "radialaxis": {
            "gridcolor": "white",
            "linecolor": "white",
            "ticks": ""
           }
          },
          "scene": {
           "xaxis": {
            "backgroundcolor": "#E5ECF6",
            "gridcolor": "white",
            "gridwidth": 2,
            "linecolor": "white",
            "showbackground": true,
            "ticks": "",
            "zerolinecolor": "white"
           },
           "yaxis": {
            "backgroundcolor": "#E5ECF6",
            "gridcolor": "white",
            "gridwidth": 2,
            "linecolor": "white",
            "showbackground": true,
            "ticks": "",
            "zerolinecolor": "white"
           },
           "zaxis": {
            "backgroundcolor": "#E5ECF6",
            "gridcolor": "white",
            "gridwidth": 2,
            "linecolor": "white",
            "showbackground": true,
            "ticks": "",
            "zerolinecolor": "white"
           }
          },
          "shapedefaults": {
           "line": {
            "color": "#2a3f5f"
           }
          },
          "ternary": {
           "aaxis": {
            "gridcolor": "white",
            "linecolor": "white",
            "ticks": ""
           },
           "baxis": {
            "gridcolor": "white",
            "linecolor": "white",
            "ticks": ""
           },
           "bgcolor": "#E5ECF6",
           "caxis": {
            "gridcolor": "white",
            "linecolor": "white",
            "ticks": ""
           }
          },
          "title": {
           "x": 0.05
          },
          "xaxis": {
           "automargin": true,
           "gridcolor": "white",
           "linecolor": "white",
           "ticks": "",
           "title": {
            "standoff": 15
           },
           "zerolinecolor": "white",
           "zerolinewidth": 2
          },
          "yaxis": {
           "automargin": true,
           "gridcolor": "white",
           "linecolor": "white",
           "ticks": "",
           "title": {
            "standoff": 15
           },
           "zerolinecolor": "white",
           "zerolinewidth": 2
          }
         }
        },
        "xaxis": {
         "autorange": true,
         "range": [
          2015.8802568883364,
          2018.1197431116636
         ],
         "type": "linear"
        },
        "yaxis": {
         "autorange": true,
         "range": [
          187.02802547770702,
          277.37197452229304
         ],
         "type": "linear"
        }
       }
      },
      "image/png": "[encoded data removed]",
      "text/html": [
       "<div>\n",
       "        \n",
       "        \n",
       "            <div id=\"df069124-88ca-4c86-9509-aed589e0fd2d\" class=\"plotly-graph-div\" style=\"height:525px; width:100%;\"></div>\n",
       "            <script type=\"text/javascript\">\n",
       "                require([\"plotly\"], function(Plotly) {\n",
       "                    window.PLOTLYENV=window.PLOTLYENV || {};\n",
       "                    \n",
       "                if (document.getElementById(\"df069124-88ca-4c86-9509-aed589e0fd2d\")) {\n",
       "                    Plotly.newPlot(\n",
       "                        'df069124-88ca-4c86-9509-aed589e0fd2d',\n",
       "                        [{\"mode\": \"lines+markers\", \"type\": \"scattergl\", \"x\": [2016, 2016, 2017, 2017, 2018, 2016, 2016, 2017, 2017, 2018], \"y\": [196.9, 196.9, 194.4, 194.4, 192.8, 271.6, 271.6, 270.5, 270.5, 268.7]}],\n",
       "                        {\"template\": {\"data\": {\"bar\": [{\"error_x\": {\"color\": \"#2a3f5f\"}, \"error_y\": {\"color\": \"#2a3f5f\"}, \"marker\": {\"line\": {\"color\": \"#E5ECF6\", \"width\": 0.5}}, \"type\": \"bar\"}], \"barpolar\": [{\"marker\": {\"line\": {\"color\": \"#E5ECF6\", \"width\": 0.5}}, \"type\": \"barpolar\"}], \"carpet\": [{\"aaxis\": {\"endlinecolor\": \"#2a3f5f\", \"gridcolor\": \"white\", \"linecolor\": \"white\", \"minorgridcolor\": \"white\", \"startlinecolor\": \"#2a3f5f\"}, \"baxis\": {\"endlinecolor\": \"#2a3f5f\", \"gridcolor\": \"white\", \"linecolor\": \"white\", \"minorgridcolor\": \"white\", \"startlinecolor\": \"#2a3f5f\"}, \"type\": \"carpet\"}], \"choropleth\": [{\"colorbar\": {\"outlinewidth\": 0, \"ticks\": \"\"}, \"type\": \"choropleth\"}], \"contour\": [{\"colorbar\": {\"outlinewidth\": 0, \"ticks\": \"\"}, \"colorscale\": [[0.0, \"#0d0887\"], [0.1111111111111111, \"#46039f\"], [0.2222222222222222, \"#7201a8\"], [0.3333333333333333, \"#9c179e\"], [0.4444444444444444, \"#bd3786\"], [0.5555555555555556, \"#d8576b\"], [0.6666666666666666, \"#ed7953\"], [0.7777777777777778, \"#fb9f3a\"], [0.8888888888888888, \"#fdca26\"], [1.0, \"#f0f921\"]], \"type\": \"contour\"}], \"contourcarpet\": [{\"colorbar\": {\"outlinewidth\": 0, \"ticks\": \"\"}, \"type\": \"contourcarpet\"}], \"heatmap\": [{\"colorbar\": {\"outlinewidth\": 0, \"ticks\": \"\"}, \"colorscale\": [[0.0, \"#0d0887\"], [0.1111111111111111, \"#46039f\"], [0.2222222222222222, \"#7201a8\"], [0.3333333333333333, \"#9c179e\"], [0.4444444444444444, \"#bd3786\"], [0.5555555555555556, \"#d8576b\"], [0.6666666666666666, \"#ed7953\"], [0.7777777777777778, \"#fb9f3a\"], [0.8888888888888888, \"#fdca26\"], [1.0, \"#f0f921\"]], \"type\": \"heatmap\"}], \"heatmapgl\": [{\"colorbar\": {\"outlinewidth\": 0, \"ticks\": \"\"}, \"colorscale\": [[0.0, \"#0d0887\"], [0.1111111111111111, \"#46039f\"], [0.2222222222222222, \"#7201a8\"], [0.3333333333333333, \"#9c179e\"], [0.4444444444444444, \"#bd3786\"], [0.5555555555555556, \"#d8576b\"], [0.6666666666666666, \"#ed7953\"], [0.7777777777777778, \"#fb9f3a\"], [0.8888888888888888, \"#fdca26\"], [1.0, \"#f0f921\"]], \"type\": \"heatmapgl\"}], \"histogram\": [{\"marker\": {\"colorbar\": {\"outlinewidth\": 0, \"ticks\": \"\"}}, \"type\": \"histogram\"}], \"histogram2d\": [{\"colorbar\": {\"outlinewidth\": 0, \"ticks\": \"\"}, \"colorscale\": [[0.0, \"#0d0887\"], [0.1111111111111111, \"#46039f\"], [0.2222222222222222, \"#7201a8\"], [0.3333333333333333, \"#9c179e\"], [0.4444444444444444, \"#bd3786\"], [0.5555555555555556, \"#d8576b\"], [0.6666666666666666, \"#ed7953\"], [0.7777777777777778, \"#fb9f3a\"], [0.8888888888888888, \"#fdca26\"], [1.0, \"#f0f921\"]], \"type\": \"histogram2d\"}], \"histogram2dcontour\": [{\"colorbar\": {\"outlinewidth\": 0, \"ticks\": \"\"}, \"colorscale\": [[0.0, \"#0d0887\"], [0.1111111111111111, \"#46039f\"], [0.2222222222222222, \"#7201a8\"], [0.3333333333333333, \"#9c179e\"], [0.4444444444444444, \"#bd3786\"], [0.5555555555555556, \"#d8576b\"], [0.6666666666666666, \"#ed7953\"], [0.7777777777777778, \"#fb9f3a\"], [0.8888888888888888, \"#fdca26\"], [1.0, \"#f0f921\"]], \"type\": \"histogram2dcontour\"}], \"mesh3d\": [{\"colorbar\": {\"outlinewidth\": 0, \"ticks\": \"\"}, \"type\": \"mesh3d\"}], \"parcoords\": [{\"line\": {\"colorbar\": {\"outlinewidth\": 0, \"ticks\": \"\"}}, \"type\": \"parcoords\"}], \"pie\": [{\"automargin\": true, \"type\": \"pie\"}], \"scatter\": [{\"marker\": {\"colorbar\": {\"outlinewidth\": 0, \"ticks\": \"\"}}, \"type\": \"scatter\"}], \"scatter3d\": [{\"line\": {\"colorbar\": {\"outlinewidth\": 0, \"ticks\": \"\"}}, \"marker\": {\"colorbar\": {\"outlinewidth\": 0, \"ticks\": \"\"}}, \"type\": \"scatter3d\"}], \"scattercarpet\": [{\"marker\": {\"colorbar\": {\"outlinewidth\": 0, \"ticks\": \"\"}}, \"type\": \"scattercarpet\"}], \"scattergeo\": [{\"marker\": {\"colorbar\": {\"outlinewidth\": 0, \"ticks\": \"\"}}, \"type\": \"scattergeo\"}], \"scattergl\": [{\"marker\": {\"colorbar\": {\"outlinewidth\": 0, \"ticks\": \"\"}}, \"type\": \"scattergl\"}], \"scattermapbox\": [{\"marker\": {\"colorbar\": {\"outlinewidth\": 0, \"ticks\": \"\"}}, \"type\": \"scattermapbox\"}], \"scatterpolar\": [{\"marker\": {\"colorbar\": {\"outlinewidth\": 0, \"ticks\": \"\"}}, \"type\": \"scatterpolar\"}], \"scatterpolargl\": [{\"marker\": {\"colorbar\": {\"outlinewidth\": 0, \"ticks\": \"\"}}, \"type\": \"scatterpolargl\"}], \"scatterternary\": [{\"marker\": {\"colorbar\": {\"outlinewidth\": 0, \"ticks\": \"\"}}, \"type\": \"scatterternary\"}], \"surface\": [{\"colorbar\": {\"outlinewidth\": 0, \"ticks\": \"\"}, \"colorscale\": [[0.0, \"#0d0887\"], [0.1111111111111111, \"#46039f\"], [0.2222222222222222, \"#7201a8\"], [0.3333333333333333, \"#9c179e\"], [0.4444444444444444, \"#bd3786\"], [0.5555555555555556, \"#d8576b\"], [0.6666666666666666, \"#ed7953\"], [0.7777777777777778, \"#fb9f3a\"], [0.8888888888888888, \"#fdca26\"], [1.0, \"#f0f921\"]], \"type\": \"surface\"}], \"table\": [{\"cells\": {\"fill\": {\"color\": \"#EBF0F8\"}, \"line\": {\"color\": \"white\"}}, \"header\": {\"fill\": {\"color\": \"#C8D4E3\"}, \"line\": {\"color\": \"white\"}}, \"type\": \"table\"}]}, \"layout\": {\"annotationdefaults\": {\"arrowcolor\": \"#2a3f5f\", \"arrowhead\": 0, \"arrowwidth\": 1}, \"coloraxis\": {\"colorbar\": {\"outlinewidth\": 0, \"ticks\": \"\"}}, \"colorscale\": {\"diverging\": [[0, \"#8e0152\"], [0.1, \"#c51b7d\"], [0.2, \"#de77ae\"], [0.3, \"#f1b6da\"], [0.4, \"#fde0ef\"], [0.5, \"#f7f7f7\"], [0.6, \"#e6f5d0\"], [0.7, \"#b8e186\"], [0.8, \"#7fbc41\"], [0.9, \"#4d9221\"], [1, \"#276419\"]], \"sequential\": [[0.0, \"#0d0887\"], [0.1111111111111111, \"#46039f\"], [0.2222222222222222, \"#7201a8\"], [0.3333333333333333, \"#9c179e\"], [0.4444444444444444, \"#bd3786\"], [0.5555555555555556, \"#d8576b\"], [0.6666666666666666, \"#ed7953\"], [0.7777777777777778, \"#fb9f3a\"], [0.8888888888888888, \"#fdca26\"], [1.0, \"#f0f921\"]], \"sequentialminus\": [[0.0, \"#0d0887\"], [0.1111111111111111, \"#46039f\"], [0.2222222222222222, \"#7201a8\"], [0.3333333333333333, \"#9c179e\"], [0.4444444444444444, \"#bd3786\"], [0.5555555555555556, \"#d8576b\"], [0.6666666666666666, \"#ed7953\"], [0.7777777777777778, \"#fb9f3a\"], [0.8888888888888888, \"#fdca26\"], [1.0, \"#f0f921\"]]}, \"colorway\": [\"#636efa\", \"#EF553B\", \"#00cc96\", \"#ab63fa\", \"#FFA15A\", \"#19d3f3\", \"#FF6692\", \"#B6E880\", \"#FF97FF\", \"#FECB52\"], \"font\": {\"color\": \"#2a3f5f\"}, \"geo\": {\"bgcolor\": \"white\", \"lakecolor\": \"white\", \"landcolor\": \"#E5ECF6\", \"showlakes\": true, \"showland\": true, \"subunitcolor\": \"white\"}, \"hoverlabel\": {\"align\": \"left\"}, \"hovermode\": \"closest\", \"mapbox\": {\"style\": \"light\"}, \"paper_bgcolor\": \"white\", \"plot_bgcolor\": \"#E5ECF6\", \"polar\": {\"angularaxis\": {\"gridcolor\": \"white\", \"linecolor\": \"white\", \"ticks\": \"\"}, \"bgcolor\": \"#E5ECF6\", \"radialaxis\": {\"gridcolor\": \"white\", \"linecolor\": \"white\", \"ticks\": \"\"}}, \"scene\": {\"xaxis\": {\"backgroundcolor\": \"#E5ECF6\", \"gridcolor\": \"white\", \"gridwidth\": 2, \"linecolor\": \"white\", \"showbackground\": true, \"ticks\": \"\", \"zerolinecolor\": \"white\"}, \"yaxis\": {\"backgroundcolor\": \"#E5ECF6\", \"gridcolor\": \"white\", \"gridwidth\": 2, \"linecolor\": \"white\", \"showbackground\": true, \"ticks\": \"\", \"zerolinecolor\": \"white\"}, \"zaxis\": {\"backgroundcolor\": \"#E5ECF6\", \"gridcolor\": \"white\", \"gridwidth\": 2, \"linecolor\": \"white\", \"showbackground\": true, \"ticks\": \"\", \"zerolinecolor\": \"white\"}}, \"shapedefaults\": {\"line\": {\"color\": \"#2a3f5f\"}}, \"ternary\": {\"aaxis\": {\"gridcolor\": \"white\", \"linecolor\": \"white\", \"ticks\": \"\"}, \"baxis\": {\"gridcolor\": \"white\", \"linecolor\": \"white\", \"ticks\": \"\"}, \"bgcolor\": \"#E5ECF6\", \"caxis\": {\"gridcolor\": \"white\", \"linecolor\": \"white\", \"ticks\": \"\"}}, \"title\": {\"x\": 0.05}, \"xaxis\": {\"automargin\": true, \"gridcolor\": \"white\", \"linecolor\": \"white\", \"ticks\": \"\", \"title\": {\"standoff\": 15}, \"zerolinecolor\": \"white\", \"zerolinewidth\": 2}, \"yaxis\": {\"automargin\": true, \"gridcolor\": \"white\", \"linecolor\": \"white\", \"ticks\": \"\", \"title\": {\"standoff\": 15}, \"zerolinecolor\": \"white\", \"zerolinewidth\": 2}}}},\n",
       "                        {\"responsive\": true}\n",
       "                    ).then(function(){\n",
       "                            \n",
       "var gd = document.getElementById('df069124-88ca-4c86-9509-aed589e0fd2d');\n",
       "var x = new MutationObserver(function (mutations, observer) {{\n",
       "        var display = window.getComputedStyle(gd).display;\n",
       "        if (!display || display === 'none') {{\n",
       "            console.log([gd, 'removed!']);\n",
       "            Plotly.purge(gd);\n",
       "            observer.disconnect();\n",
       "        }}\n",
       "}});\n",
       "\n",
       "// Listen for the removal of the full notebook cells\n",
       "var notebookContainer = gd.closest('#notebook-container');\n",
       "if (notebookContainer) {{\n",
       "    x.observe(notebookContainer, {childList: true});\n",
       "}}\n",
       "\n",
       "// Listen for the clearing of the current output cell\n",
       "var outputEl = gd.closest('.output');\n",
       "if (outputEl) {{\n",
       "    x.observe(outputEl, {childList: true});\n",
       "}}\n",
       "\n",
       "                        })\n",
       "                };\n",
       "                });\n",
       "            </script>\n",
       "        </div>"
      ]
     },
     "metadata": {},
     "output_type": "display_data"
    }
   ],
   "source": [
    "import plotly.graph_objs as go\n",
    "\n",
    "df = results.set_index('year')\n",
    "\n",
    "fig = go.Figure()\n",
    "fig.add_trace(\n",
    "    go.Scattergl(\n",
    "        x=df.index,\n",
    "        y=df[stat],\n",
    "        mode=\"lines+markers\"\n",
    "        #name=\"AI1302\",\n",
    "    )\n",
    ")\n",
    "\n",
    "#fig.add_trace(\n",
    "#    go.Scattergl(\n",
    "#        x=df.index,\n",
    "#        y=df['AI1304'],\n",
    "#        mode=\"lines+markers\",\n",
    "#        name=\"AI1304\",\n",
    "#    )\n",
    "#)\n",
    "\n",
    "#fig.update_xaxes(title_text=\"Time\")\n",
    "#fig.update_yaxes(title_text=\"Accidents\")\n",
    "\n",
    "fig.show()"
   ]
  },
  {
   "cell_type": "code",
   "execution_count": null,
   "metadata": {},
   "outputs": [],
   "source": []
  }
 ],
 "metadata": {
  "file_extension": ".py",
  "kernelspec": {
   "display_name": "Python 3",
   "language": "python",
   "name": "python3"
  },
  "language_info": {
   "codemirror_mode": {
    "name": "ipython",
    "version": 3
   },
   "file_extension": ".py",
   "mimetype": "text/x-python",
   "name": "python",
   "nbconvert_exporter": "python",
   "pygments_lexer": "ipython3",
   "version": "3.7.1"
  },
  "mimetype": "text/x-python",
  "name": "python",
  "npconvert_exporter": "python",
  "pycharm": {
   "stem_cell": {
    "cell_type": "raw",
    "metadata": {
     "collapsed": false
    },
    "source": []
   }
  },
  "pygments_lexer": "ipython3",
  "version": 3
 },
 "nbformat": 4,
 "nbformat_minor": 4
}
