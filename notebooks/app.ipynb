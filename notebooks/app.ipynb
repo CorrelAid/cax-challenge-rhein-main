{
 "cells": [
  {
   "cell_type": "markdown",
   "metadata": {},
   "source": [
    "# The title of our magnificient tool"
   ]
  },
  {
   "cell_type": "markdown",
   "metadata": {},
   "source": [
    "This app helps to get a more vivid impression of the data provided by [Datenguide](https://datengui.de/).  \n",
    "Here we present a number of statistics for the state of Hesse (see detials below)."
   ]
  },
  {
   "cell_type": "markdown",
   "metadata": {},
   "source": [
    "### Summary of the available statistics\n",
    "*TODO*  \n",
    "mention normalization"
   ]
  },
  {
   "cell_type": "markdown",
   "metadata": {},
   "source": [
    "### Instructions\n",
    "The **left panel** of the visualization shows a geographical representation of the chosen statistics and year. The coloring of each step represents the value of the statistics for the respective county/district according to the legend shown on the bottom left. While hovering over a county, the field in the upper right provides information about the district on which the cursor is positioned.  \n",
    "*Statisitcs and year can be chosen from the dropdown selectors above the map.*\n",
    "\n",
    "On the **right panel**, we show a direct comparison of two districts across all years that are available in the database. The districts corresponding to either color can be inferred from the legend.  \n",
    "*Districts can be chosen for comparison by consecutively clicking on the respective areas on the map in the left panel.*"
   ]
  },
  {
   "cell_type": "code",
   "execution_count": 1,
   "metadata": {},
   "outputs": [],
   "source": [
    "from ipyleaflet import (Map, GeoData, basemaps, WidgetControl, GeoJSON, LayersControl,\n",
    "                        Choropleth, Heatmap, SearchControl,FullScreenControl, LegendControl)\n",
    "from ipywidgets import Text, HTML, widgets, interact, Label, Layout, HBox, VBox\n",
    "from branca.colormap import linear\n",
    "\n",
    "import geopandas as gpd\n",
    "import pandas as pd\n",
    "pd.options.plotting.backend = \"plotly\"\n",
    "\n",
    "import json\n",
    "import numpy as np\n",
    "import plotly.express as px\n",
    "import plotly.graph_objs as go\n",
    "\n",
    "from datenguidepy import get_regions, get_statistics, Query"
   ]
  },
  {
   "cell_type": "code",
   "execution_count": 2,
   "metadata": {},
   "outputs": [],
   "source": [
    "%%capture\n",
    "cd .."
   ]
  },
  {
   "cell_type": "code",
   "execution_count": 3,
   "metadata": {},
   "outputs": [],
   "source": [
    "from plotting import show_map, stats_widget, year_widget"
   ]
  },
  {
   "cell_type": "code",
   "execution_count": 4,
   "metadata": {
    "tags": []
   },
   "outputs": [
    {
     "output_type": "display_data",
     "data": {
      "text/plain": "interactive(children=(Dropdown(description='statistics:', options=(('Pkw je 1.000 Einwohner', 'AI1301'), ('Hau…",
      "application/vnd.jupyter.widget-view+json": {
       "version_major": 2,
       "version_minor": 0,
       "model_id": "229aa8fcff66439da95fa45ebe39d65e"
      }
     },
     "metadata": {}
    },
    {
     "output_type": "display_data",
     "data": {
      "text/plain": "HBox(children=(Map(center=[50.5, 9], controls=(ZoomControl(options=['position', 'zoom_in_text', 'zoom_in_title…",
      "application/vnd.jupyter.widget-view+json": {
       "version_major": 2,
       "version_minor": 0,
       "model_id": "f423037b5769466dbe360e3967c33a6c"
      }
     },
     "metadata": {}
    }
   ],
   "source": [
    "interact(show_map, selected_stats=stats_widget, year=year_widget);"
   ]
  },
  {
   "cell_type": "code",
   "execution_count": null,
   "metadata": {},
   "outputs": [],
   "source": []
  }
 ],
 "metadata": {
  "kernelspec": {
   "display_name": "Python 3.8.3 64-bit ('cax': conda)",
   "language": "python",
   "name": "python38364bitcaxconda1a41f04c3f8d4044b2096fb9801911fc"
  },
  "language_info": {
   "codemirror_mode": {
    "name": "ipython",
    "version": 3
   },
   "file_extension": ".py",
   "mimetype": "text/x-python",
   "name": "python",
   "nbconvert_exporter": "python",
   "pygments_lexer": "ipython3",
   "version": "3.8.3-final"
  },
  "toc": {
   "base_numbering": 1,
   "nav_menu": {},
   "number_sections": true,
   "sideBar": true,
   "skip_h1_title": false,
   "title_cell": "Table of Contents",
   "title_sidebar": "Contents",
   "toc_cell": false,
   "toc_position": {},
   "toc_section_display": true,
   "toc_window_display": false
  }
 },
 "nbformat": 4,
 "nbformat_minor": 4
}